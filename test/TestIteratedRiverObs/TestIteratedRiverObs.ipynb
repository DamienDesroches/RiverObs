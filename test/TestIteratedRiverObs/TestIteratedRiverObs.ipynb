{
 "metadata": {
  "name": "",
  "signature": "sha256:ef975c53d8484b650fc41217e47ffbe19073c4243ced2ccdf7370b9df1ce2c07"
 },
 "nbformat": 3,
 "nbformat_minor": 0,
 "worksheets": [
  {
   "cells": [
    {
     "cell_type": "code",
     "collapsed": false,
     "input": [
      "import numpy as N\n",
      "from numpy.random import normal\n",
      "from Centerline import Centerline\n",
      "from SWOTRiver import IteratedRiverObs\n",
      "\n",
      "%pylab inline\n",
      "\n",
      "# This is for making changes on the fly\n",
      "\n",
      "%load_ext autoreload\n",
      "%autoreload 2"
     ],
     "language": "python",
     "metadata": {},
     "outputs": []
    },
    {
     "cell_type": "code",
     "collapsed": false,
     "input": [
      "nobs = 5\n",
      "\n",
      "# This is the truth\n",
      "\n",
      "npoints = 100\n",
      "x = N.arange(npoints)*2*N.pi/npoints\n",
      "y = N.sin(x)\n",
      "width = 0.2 + 0.1*x\n",
      "\n",
      "xobs = []\n",
      "yobs = []\n",
      "for i in range(npoints):\n",
      "    dx = normal(0.,width[i],nobs)\n",
      "    dy = normal(0.,width[i],nobs)\n",
      "    xobs += (x[i]+dx).tolist()\n",
      "    yobs += (y[i]+dy).tolist()\n",
      "\n",
      "# This is the first guess\n",
      "\n",
      "nc = 25\n",
      "xc = N.arange(nc)*2*N.pi/nc\n",
      "yc = -1*N.ones(nc) + 0.5*xc"
     ],
     "language": "python",
     "metadata": {},
     "outputs": []
    },
    {
     "cell_type": "code",
     "collapsed": false,
     "input": [
      "plot(xobs,yobs,'.',alpha=0.1)\n",
      "plot(xc,yc,'o',alpha=0.5,linewidth=2)"
     ],
     "language": "python",
     "metadata": {},
     "outputs": []
    },
    {
     "cell_type": "code",
     "collapsed": false,
     "input": [
      "class reach: pass\n",
      "reach.x = xc\n",
      "reach.y = yc"
     ],
     "language": "python",
     "metadata": {},
     "outputs": []
    },
    {
     "cell_type": "markdown",
     "metadata": {},
     "source": [
      "No smoothing, one iterations"
     ]
    },
    {
     "cell_type": "code",
     "collapsed": false,
     "input": [
      "river_obs = IteratedRiverObs(reach,xobs,yobs)\n",
      "alpha=1\n",
      "max_iter=1\n",
      "river_obs.iterate(max_iter=max_iter,alpha=alpha,tol=1.e-2)\n",
      "xc,yc = river_obs.get_centerline_xy()\n"
     ],
     "language": "python",
     "metadata": {},
     "outputs": []
    },
    {
     "cell_type": "code",
     "collapsed": false,
     "input": [
      "plot(xobs,yobs,'.',alpha=0.1)\n",
      "plot(xc,yc,'o',alpha=0.8,linewidth=2)\n",
      "plot(x,y,'--k')"
     ],
     "language": "python",
     "metadata": {},
     "outputs": []
    },
    {
     "cell_type": "markdown",
     "metadata": {},
     "source": [
      "Smoothing, $\\alpha = 1$, 1 iteration "
     ]
    },
    {
     "cell_type": "code",
     "collapsed": false,
     "input": [
      "river_obs = IteratedRiverObs(reach,xobs,yobs)\n",
      "alpha=1\n",
      "max_iter=1\n",
      "smooth=1\n",
      "weights=True\n",
      "river_obs.iterate(max_iter=max_iter,alpha=alpha,tol=1.e-2,\n",
      "                  smooth=smooth,weights=weights)\n",
      "xc,yc = river_obs.get_centerline_xy()\n"
     ],
     "language": "python",
     "metadata": {},
     "outputs": []
    },
    {
     "cell_type": "code",
     "collapsed": false,
     "input": [
      "plot(xobs,yobs,'.',alpha=0.1)\n",
      "plot(xc,yc,'o',alpha=0.8,linewidth=2)\n",
      "plot(x,y,'--k')"
     ],
     "language": "python",
     "metadata": {},
     "outputs": []
    },
    {
     "cell_type": "code",
     "collapsed": false,
     "input": [
      "river_obs = IteratedRiverObs(reach,xobs,yobs)\n",
      "alpha=1\n",
      "max_iter=2\n",
      "smooth=1\n",
      "weights=True\n",
      "river_obs.iterate(max_iter=max_iter,alpha=alpha,tol=1.e-2,\n",
      "                  smooth=smooth,weights=weights)\n",
      "xc,yc = river_obs.get_centerline_xy()\n"
     ],
     "language": "python",
     "metadata": {},
     "outputs": []
    },
    {
     "cell_type": "code",
     "collapsed": false,
     "input": [
      "plot(xobs,yobs,'.',alpha=0.1)\n",
      "plot(xc,yc,'o',alpha=0.8,linewidth=2)\n",
      "plot(x,y,'--k')"
     ],
     "language": "python",
     "metadata": {},
     "outputs": []
    },
    {
     "cell_type": "code",
     "collapsed": false,
     "input": [
      "river_obs = IteratedRiverObs(reach,xobs,yobs)\n",
      "alpha=0.2\n",
      "max_iter=10\n",
      "smooth=1\n",
      "weights=True\n",
      "river_obs.iterate(max_iter=max_iter,alpha=alpha,tol=1.e-2,\n",
      "                  smooth=smooth,weights=weights)\n",
      "xc,yc = river_obs.get_centerline_xy()\n"
     ],
     "language": "python",
     "metadata": {},
     "outputs": []
    },
    {
     "cell_type": "code",
     "collapsed": false,
     "input": [
      "plot(xobs,yobs,'.',alpha=0.1)\n",
      "plot(xc,yc,'o',alpha=0.8,linewidth=2)\n",
      "plot(x,y,'--k')"
     ],
     "language": "python",
     "metadata": {},
     "outputs": []
    },
    {
     "cell_type": "code",
     "collapsed": false,
     "input": [
      "river_obs = IteratedRiverObs(reach,xobs,yobs)\n",
      "alpha=1\n",
      "max_iter=1\n",
      "smooth=1.e-1\n",
      "weights=True\n",
      "river_obs.iterate(max_iter=max_iter,alpha=alpha,tol=1.e-2,\n",
      "                  smooth=smooth,weights=weights)\n",
      "xc,yc = river_obs.get_centerline_xy()\n"
     ],
     "language": "python",
     "metadata": {},
     "outputs": []
    },
    {
     "cell_type": "code",
     "collapsed": false,
     "input": [
      "plot(xobs,yobs,'.',alpha=0.1)\n",
      "plot(xc,yc,'o',alpha=0.8,linewidth=2)\n",
      "plot(x,y,'--k')"
     ],
     "language": "python",
     "metadata": {},
     "outputs": []
    },
    {
     "cell_type": "code",
     "collapsed": false,
     "input": [
      "river_obs = IteratedRiverObs(reach,xobs,yobs)\n",
      "alpha=1\n",
      "max_iter=2\n",
      "smooth=1.e-1\n",
      "weights=True\n",
      "river_obs.iterate(max_iter=max_iter,alpha=alpha,tol=1.e-2,\n",
      "                  smooth=smooth,weights=weights)\n",
      "xc,yc = river_obs.get_centerline_xy()\n"
     ],
     "language": "python",
     "metadata": {},
     "outputs": []
    },
    {
     "cell_type": "code",
     "collapsed": false,
     "input": [
      "plot(xobs,yobs,'.',alpha=0.1)\n",
      "plot(xc,yc,'o',alpha=0.8,linewidth=2)\n",
      "plot(x,y,'--k')"
     ],
     "language": "python",
     "metadata": {},
     "outputs": []
    },
    {
     "cell_type": "code",
     "collapsed": false,
     "input": [
      "river_obs = IteratedRiverObs(reach,xobs,yobs)\n",
      "alpha=1\n",
      "max_iter=1\n",
      "smooth=1.e-2\n",
      "weights=True\n",
      "river_obs.iterate(max_iter=max_iter,alpha=alpha,tol=1.e-2,\n",
      "                  smooth=smooth,weights=weights)\n",
      "xc,yc = river_obs.get_centerline_xy()\n"
     ],
     "language": "python",
     "metadata": {},
     "outputs": []
    },
    {
     "cell_type": "code",
     "collapsed": false,
     "input": [
      "plot(xobs,yobs,'.',alpha=0.1)\n",
      "plot(xc,yc,'o',alpha=0.8,linewidth=2)\n",
      "plot(x,y,'--k')"
     ],
     "language": "python",
     "metadata": {},
     "outputs": []
    },
    {
     "cell_type": "code",
     "collapsed": false,
     "input": [
      "river_obs = IteratedRiverObs(reach,xobs,yobs)\n",
      "alpha=1\n",
      "max_iter=2\n",
      "smooth=1.e-2\n",
      "weights=True\n",
      "river_obs.iterate(max_iter=max_iter,alpha=alpha,tol=1.e-2,\n",
      "                  smooth=smooth,weights=weights)\n",
      "xc,yc = river_obs.get_centerline_xy()"
     ],
     "language": "python",
     "metadata": {},
     "outputs": []
    },
    {
     "cell_type": "code",
     "collapsed": false,
     "input": [
      "plot(xobs,yobs,'.',alpha=0.1)\n",
      "plot(xc,yc,'o',alpha=0.8,linewidth=2)\n",
      "plot(x,y,'--k')"
     ],
     "language": "python",
     "metadata": {},
     "outputs": []
    },
    {
     "cell_type": "code",
     "collapsed": false,
     "input": [
      "river_obs = IteratedRiverObs(reach,xobs,yobs)\n",
      "alpha=1\n",
      "max_iter=2\n",
      "smooth=1.e-3\n",
      "weights=True\n",
      "river_obs.iterate(max_iter=max_iter,alpha=alpha,tol=1.e-2,\n",
      "                  smooth=smooth,weights=weights)\n",
      "xc,yc = river_obs.get_centerline_xy()\n"
     ],
     "language": "python",
     "metadata": {},
     "outputs": []
    },
    {
     "cell_type": "code",
     "collapsed": false,
     "input": [
      "plot(xobs,yobs,'.',alpha=0.1)\n",
      "plot(xc,yc,'o',alpha=0.8,linewidth=2)\n",
      "plot(x,y,'--k')"
     ],
     "language": "python",
     "metadata": {},
     "outputs": []
    },
    {
     "cell_type": "code",
     "collapsed": false,
     "input": [
      "river_obs.add_centerline_obs(x,y,width,'width')"
     ],
     "language": "python",
     "metadata": {},
     "outputs": []
    },
    {
     "cell_type": "code",
     "collapsed": false,
     "input": [
      "xw = river_obs.centerline_obs['width'].x\n",
      "yw = river_obs.centerline_obs['width'].y\n",
      "w = river_obs.centerline_obs['width'].v"
     ],
     "language": "python",
     "metadata": {},
     "outputs": []
    },
    {
     "cell_type": "code",
     "collapsed": false,
     "input": [
      "plot(xobs,yobs,'.',alpha=0.1)\n",
      "plot(xc,yc,'kx',alpha=1,linewidth=2)\n",
      "scatter(xw,yw,c=w,s=50,alpha=1,edgecolor='none')"
     ],
     "language": "python",
     "metadata": {},
     "outputs": []
    },
    {
     "cell_type": "code",
     "collapsed": false,
     "input": [],
     "language": "python",
     "metadata": {},
     "outputs": []
    }
   ],
   "metadata": {}
  }
 ]
}