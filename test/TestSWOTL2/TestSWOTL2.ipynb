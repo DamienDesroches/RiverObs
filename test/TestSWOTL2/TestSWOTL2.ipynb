{
 "metadata": {
  "name": "",
  "signature": "sha256:ea11a9bd018f1b9525636a88f510b9ec4537fb6f3f50ddcea8bd97ef30bb22a9"
 },
 "nbformat": 3,
 "nbformat_minor": 0,
 "worksheets": [
  {
   "cells": [
    {
     "cell_type": "code",
     "collapsed": false,
     "input": [
      "from SWOTRiver import SWOTL2\n",
      "\n",
      "%pylab inline"
     ],
     "language": "python",
     "metadata": {},
     "outputs": []
    },
    {
     "cell_type": "code",
     "collapsed": false,
     "input": [
      "data_dir = '/Volumes/Reservoir/Data/SWOT/'\n",
      "l2_file = data_dir+'swot_intf_line1_cycle_0001_pass_0277_w0.23_15dB_slp0.1deg.LeftSwath.nc'"
     ],
     "language": "python",
     "metadata": {},
     "outputs": []
    },
    {
     "cell_type": "code",
     "collapsed": false,
     "input": [
      "l2 = SWOTL2(l2_file)"
     ],
     "language": "python",
     "metadata": {},
     "outputs": []
    },
    {
     "cell_type": "code",
     "collapsed": false,
     "input": [
      "figsize(6,6)\n",
      "scatter(l2.lon,l2.lat,c=l2.water_height,edgecolor='none',alpha=0.1)"
     ],
     "language": "python",
     "metadata": {},
     "outputs": []
    },
    {
     "cell_type": "code",
     "collapsed": false,
     "input": [
      "figsize(6,6)\n",
      "scatter(l2.x/1.e3,l2.y/1.e3,c=l2.water_height,edgecolor='none',alpha=0.1)"
     ],
     "language": "python",
     "metadata": {},
     "outputs": []
    },
    {
     "cell_type": "code",
     "collapsed": false,
     "input": [
      "def junk(**kwds):\n",
      "    for k in kwds:\n",
      "        v = kwds[k]\n",
      "        exec('x = v')\n",
      "        print x"
     ],
     "language": "python",
     "metadata": {},
     "outputs": []
    },
    {
     "cell_type": "code",
     "collapsed": false,
     "input": [
      "junk(x={'k':2},y=arange(5))"
     ],
     "language": "python",
     "metadata": {},
     "outputs": []
    },
    {
     "cell_type": "code",
     "collapsed": false,
     "input": [
      "type('a') == str"
     ],
     "language": "python",
     "metadata": {},
     "outputs": []
    },
    {
     "cell_type": "code",
     "collapsed": false,
     "input": [],
     "language": "python",
     "metadata": {},
     "outputs": []
    }
   ],
   "metadata": {}
  }
 ]
}