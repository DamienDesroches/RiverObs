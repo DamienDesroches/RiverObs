{
 "cells": [
  {
   "cell_type": "code",
   "execution_count": null,
   "metadata": {
    "collapsed": true
   },
   "outputs": [],
   "source": [
    "%load_ext autoreload\n",
    "%autoreload 2"
   ]
  },
  {
   "cell_type": "markdown",
   "metadata": {},
   "source": [
    "Look for the RiverObs test data es either an environment variable or in the default directory location."
   ]
  },
  {
   "cell_type": "code",
   "execution_count": null,
   "metadata": {
    "collapsed": true
   },
   "outputs": [],
   "source": [
    "import os\n",
    "from os.path import exists\n",
    "def find_riverobs_test_data_dir():\n",
    "    \"\"\"Fin the location of the test data root directory\"\"\"\n",
    "    \n",
    "    if 'RIVEROBS_TESTDATA_DIR' in os.environ:\n",
    "        test_data_dir = os.environ('RIVEROBS_TESTDATA_DIR')\n",
    "    else: # try the default location\n",
    "        test_data_dir = '../../../RiverObsTestData'\n",
    "        \n",
    "    if not exists(test_data_dir):\n",
    "        print('You must either set the environment variable RIVEROBS_TESTDATA_DIR')\n",
    "        print('or locate the test data directory at ../../../RiverObsTestData')\n",
    "        raise Exception('Test data directory not found.')\n",
    "        \n",
    "    return test_data_dir\n",
    "\n",
    "data_dir = find_riverobs_test_data_dir()\n",
    "data_dir"
   ]
  },
  {
   "cell_type": "code",
   "execution_count": null,
   "metadata": {
    "collapsed": true
   },
   "outputs": [],
   "source": [
    "%pylab --no-import-all inline"
   ]
  },
  {
   "cell_type": "code",
   "execution_count": null,
   "metadata": {
    "collapsed": true
   },
   "outputs": [],
   "source": [
    "from os.path import join\n",
    "from SWOTRiver import SWOTL2"
   ]
  },
  {
   "cell_type": "markdown",
   "metadata": {},
   "source": [
    "# Test the v0 L2 Data"
   ]
  },
  {
   "cell_type": "code",
   "execution_count": null,
   "metadata": {
    "collapsed": true
   },
   "outputs": [],
   "source": [
    "l2_file = join(data_dir,'L2','L2v0','simulated_sacramento_swot_test_data_v0.nc')\n",
    "assert exists(l2_file)"
   ]
  },
  {
   "cell_type": "code",
   "execution_count": null,
   "metadata": {
    "collapsed": true
   },
   "outputs": [],
   "source": [
    "height_kwd = 'water_height'\n",
    "l2 = SWOTL2(l2_file)"
   ]
  },
  {
   "cell_type": "code",
   "execution_count": null,
   "metadata": {
    "collapsed": true
   },
   "outputs": [],
   "source": [
    "# Print the contents of the L2A file\n",
    "\n",
    "for var in l2.nc.variables.keys():\n",
    "    print(var)"
   ]
  },
  {
   "cell_type": "markdown",
   "metadata": {},
   "source": [
    "Show the heights in lat/lon and X,Y coordinates:"
   ]
  },
  {
   "cell_type": "code",
   "execution_count": null,
   "metadata": {
    "collapsed": true
   },
   "outputs": [],
   "source": [
    "figsize(14,6)\n",
    "plt.subplot(1,2,1)\n",
    "plt.scatter(l2.lon,l2.lat,c=l2.get(height_kwd),edgecolor='none',alpha=0.3)\n",
    "plt.xlabel('Longitude (deg)')\n",
    "plt.ylabel('Latitude (deg)')\n",
    "plt.colorbar(label='Water Height (m)');\n",
    "plt.subplot(1,2,2)\n",
    "plt.scatter(l2.x/1.e3,l2.y/1.e3,c=l2.get(height_kwd),edgecolor='none',alpha=0.3)\n",
    "plt.xlabel('X (km)')\n",
    "plt.ylabel('Y (km)')\n",
    "plt.colorbar(label='Water Height (m)');"
   ]
  },
  {
   "cell_type": "markdown",
   "metadata": {},
   "source": [
    "# Pixel cloud data v1"
   ]
  },
  {
   "cell_type": "code",
   "execution_count": null,
   "metadata": {
    "collapsed": true
   },
   "outputs": [],
   "source": [
    "l2_file = join(data_dir,'L2','L2v1','swot_heights_ohio_example_v1.Multilook_L2PIXC.nc')\n",
    "assert exists(l2_file)"
   ]
  },
  {
   "cell_type": "code",
   "execution_count": null,
   "metadata": {
    "collapsed": true
   },
   "outputs": [],
   "source": [
    "lonmin =  -83 \n",
    "latmin =  38\n",
    "lonmax =  -82\n",
    "latmax =  39\n",
    "bounding_box = lonmin,latmin,lonmax,latmax\n",
    "\n",
    "# The list of classes to consider for potential inundation.\n",
    "# The truth classes are [1], if no_layover_classification' is used.\n",
    "# If estimated classification is used, the choice depends on whether\n",
    "# use_fractional_inundation is set.\n",
    "# If it is not set, either [3,4] or [4] should be used.\n",
    "# If it is set, [2,3,4] or [3,4] should be used.\n",
    "class_list = [2,3,4,5]\n",
    "\n",
    "lat_kwd = 'latitude_medium'\n",
    "lon_kwd = 'longitude_medium'\n",
    "class_kwd = 'classification'\n",
    "height_kwd = 'height_medium'\n",
    "\n",
    "l2 = SWOTL2(l2_file,bounding_box=bounding_box,\n",
    "            class_list=class_list,\n",
    "            lat_kwd=lat_kwd,lon_kwd=lon_kwd,class_kwd=class_kwd)"
   ]
  },
  {
   "cell_type": "code",
   "execution_count": null,
   "metadata": {
    "collapsed": true
   },
   "outputs": [],
   "source": [
    "# Print the contents of the L2A file\n",
    "\n",
    "for var in l2.nc.variables.keys():\n",
    "    print(var)"
   ]
  },
  {
   "cell_type": "markdown",
   "metadata": {},
   "source": [
    "Show the heights in lat/lon and X,Y coordinates:"
   ]
  },
  {
   "cell_type": "code",
   "execution_count": null,
   "metadata": {
    "collapsed": true
   },
   "outputs": [],
   "source": [
    "figsize(14,6)\n",
    "plt.subplot(1,2,1)\n",
    "plt.scatter(l2.lon,l2.lat,c=l2.get(height_kwd),edgecolor='none',alpha=0.3)\n",
    "plt.xlabel('Longitude (deg)')\n",
    "plt.ylabel('Latitude (deg)')\n",
    "plt.colorbar(label='Water Height (m)');\n",
    "plt.subplot(1,2,2)\n",
    "plt.scatter(l2.x/1.e3,l2.y/1.e3,c=l2.get(height_kwd),edgecolor='none',alpha=0.3)\n",
    "plt.xlabel('X (km)')\n",
    "plt.ylabel('Y (km)')\n",
    "plt.colorbar(label='Water Height (m)');"
   ]
  },
  {
   "cell_type": "markdown",
   "metadata": {},
   "source": [
    "# Read GDEM data"
   ]
  },
  {
   "cell_type": "code",
   "execution_count": null,
   "metadata": {
    "collapsed": true
   },
   "outputs": [],
   "source": [
    "l2_file = join(data_dir,'L2','L2v1','ohio_gdem_example_v1.nc')\n",
    "assert exists(l2_file)"
   ]
  },
  {
   "cell_type": "code",
   "execution_count": null,
   "metadata": {
    "collapsed": true
   },
   "outputs": [],
   "source": [
    "lonmin =  -83 \n",
    "latmin =  38\n",
    "lonmax =  -82\n",
    "latmax =  39\n",
    "bounding_box = lonmin,latmin,lonmax,latmax\n",
    "\n",
    "lat_kwd = 'latitude'\n",
    "lon_kwd = 'longitude'\n",
    "class_kwd = 'landtype'\n",
    "height_kwd = 'elevation'\n",
    "\n",
    "class_list = [1,]\n",
    "\n",
    "l2 = SWOTL2(l2_file,bounding_box=bounding_box,\n",
    "            class_list=class_list,\n",
    "            lat_kwd=lat_kwd,lon_kwd=lon_kwd,class_kwd=class_kwd)"
   ]
  },
  {
   "cell_type": "code",
   "execution_count": null,
   "metadata": {
    "collapsed": true
   },
   "outputs": [],
   "source": [
    "figsize(14,6)\n",
    "plt.subplot(1,2,1)\n",
    "plt.scatter(l2.lon,l2.lat,c=l2.get(height_kwd),edgecolor='none',alpha=0.3)\n",
    "plt.xlabel('Longitude (deg)')\n",
    "plt.ylabel('Latitude (deg)')\n",
    "plt.colorbar(label='Water Height (m)');\n",
    "plt.subplot(1,2,2)\n",
    "plt.scatter(l2.x/1.e3,l2.y/1.e3,c=l2.get(height_kwd),edgecolor='none',alpha=0.3)\n",
    "plt.xlabel('X (km)')\n",
    "plt.ylabel('Y (km)')\n",
    "plt.colorbar(label='Water Height (m)');"
   ]
  },
  {
   "cell_type": "code",
   "execution_count": null,
   "metadata": {
    "collapsed": true
   },
   "outputs": [],
   "source": []
  }
 ],
 "metadata": {
  "kernelspec": {
   "display_name": "Python 3",
   "language": "python",
   "name": "python3"
  },
  "language_info": {
   "codemirror_mode": {
    "name": "ipython",
    "version": 3
   },
   "file_extension": ".py",
   "mimetype": "text/x-python",
   "name": "python",
   "nbconvert_exporter": "python",
   "pygments_lexer": "ipython3",
   "version": "3.6.1"
  }
 },
 "nbformat": 4,
 "nbformat_minor": 1
}
