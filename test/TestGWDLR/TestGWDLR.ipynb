{
 "metadata": {
  "name": "",
  "signature": "sha256:cd9d077ab361c1d293b0a284442b4e6eb6cbdd73d27874e03abdf0a5b52ce9a9"
 },
 "nbformat": 3,
 "nbformat_minor": 0,
 "worksheets": [
  {
   "cells": [
    {
     "cell_type": "code",
     "collapsed": false,
     "input": [
      "from os.path import join\n",
      "from GWDLR import GWDLR\n",
      "\n",
      "%pylab inline"
     ],
     "language": "python",
     "metadata": {},
     "outputs": []
    },
    {
     "cell_type": "code",
     "collapsed": false,
     "input": [
      "#data_dir = '/Volumes/Reservoir/Data/GWD-LR/na1'\n",
      "data_dir = '../../data'\n",
      "root_name = 'n35w125_wth'"
     ],
     "language": "python",
     "metadata": {},
     "outputs": []
    },
    {
     "cell_type": "code",
     "collapsed": false,
     "input": [
      "gwdlr = GWDLR(root_name,data_dir)\n",
      "gwdlr.__dict__"
     ],
     "language": "python",
     "metadata": {},
     "outputs": []
    },
    {
     "cell_type": "code",
     "collapsed": false,
     "input": [
      "min_width = 50.\n",
      "gwdlr.to_mask(min_width,overwrite=True)"
     ],
     "language": "python",
     "metadata": {},
     "outputs": []
    },
    {
     "cell_type": "code",
     "collapsed": false,
     "input": [
      "figsize(8,8)\n",
      "imshow(gwdlr.data,cmap=cm.gray)"
     ],
     "language": "python",
     "metadata": {},
     "outputs": []
    },
    {
     "cell_type": "code",
     "collapsed": false,
     "input": [
      "mask_file = join(data_dir,root_name+'.tif')\n",
      "gwdlr.to_gdal(mask_file,gdal_format='GTiff')"
     ],
     "language": "python",
     "metadata": {},
     "outputs": []
    }
   ],
   "metadata": {}
  }
 ]
}