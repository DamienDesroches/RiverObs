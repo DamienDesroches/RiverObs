{
 "metadata": {
  "name": "",
  "signature": "sha256:b3c55616e47891454e4f5529a83c14c6b2251412adf11975c6561e4bee748e3f"
 },
 "nbformat": 3,
 "nbformat_minor": 0,
 "worksheets": [
  {
   "cells": [
    {
     "cell_type": "code",
     "collapsed": false,
     "input": [
      "from os.path import join\n",
      "from GWDLR import GWDLR\n",
      "\n",
      "%pylab inline"
     ],
     "language": "python",
     "metadata": {},
     "outputs": []
    },
    {
     "cell_type": "code",
     "collapsed": false,
     "input": [
      "#data_dir = '/Volumes/Reservoir/Data/GWD-LR/na1'\n",
      "data_dir = '../../data'\n",
      "root_name = 'n35w125_wth'"
     ],
     "language": "python",
     "metadata": {},
     "outputs": []
    },
    {
     "cell_type": "code",
     "collapsed": false,
     "input": [
      "gwdlr = GWDLR(root_name,data_dir)\n",
      "gwdlr.__dict__"
     ],
     "language": "python",
     "metadata": {},
     "outputs": []
    },
    {
     "cell_type": "code",
     "collapsed": false,
     "input": [
      "min_width = 25.\n",
      "gwdlr.to_mask(min_width,overwrite=True,thin=True)"
     ],
     "language": "python",
     "metadata": {},
     "outputs": []
    },
    {
     "cell_type": "code",
     "collapsed": false,
     "input": [
      "figsize(8,8)\n",
      "imshow(gwdlr.data,cmap=cm.gray)"
     ],
     "language": "python",
     "metadata": {},
     "outputs": []
    },
    {
     "cell_type": "code",
     "collapsed": false,
     "input": [
      "mask_file = join(data_dir,root_name+'_center_line_%d.tif'%min_width)\n",
      "gwdlr.to_gdal(mask_file,gdal_format='GTiff')"
     ],
     "language": "python",
     "metadata": {},
     "outputs": []
    }
   ],
   "metadata": {}
  }
 ]
}