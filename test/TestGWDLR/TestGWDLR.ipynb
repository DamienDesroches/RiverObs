{
 "metadata": {
  "name": "",
  "signature": "sha256:a77ca66f1ec1b132593dc12db6ab2e9c927f43ac1346634d66e165b324b76167"
 },
 "nbformat": 3,
 "nbformat_minor": 0,
 "worksheets": [
  {
   "cells": [
    {
     "cell_type": "code",
     "collapsed": false,
     "input": [
      "from GWDLR import GWDLR\n",
      "\n",
      "%pylab osx"
     ],
     "language": "python",
     "metadata": {},
     "outputs": []
    },
    {
     "cell_type": "code",
     "collapsed": false,
     "input": [
      "data_dir = '/Volumes/Reservoir/Data/GWD-LR/na1'\n",
      "root_name = 'n35w125_wth'"
     ],
     "language": "python",
     "metadata": {},
     "outputs": []
    },
    {
     "cell_type": "code",
     "collapsed": false,
     "input": [
      "gwdlr = GWDLR(root_name,data_dir)\n",
      "gwdlr.__dict__"
     ],
     "language": "python",
     "metadata": {},
     "outputs": []
    },
    {
     "cell_type": "code",
     "collapsed": false,
     "input": [
      "min_width = 50.\n",
      "gwdlr.to_mask(min_width,overwrite=True)"
     ],
     "language": "python",
     "metadata": {},
     "outputs": []
    },
    {
     "cell_type": "code",
     "collapsed": false,
     "input": [
      "figsize(8,8)\n",
      "imshow(gwdlr.data,cmap=cm.gray)"
     ],
     "language": "python",
     "metadata": {},
     "outputs": []
    },
    {
     "cell_type": "code",
     "collapsed": false,
     "input": [
      "gwdlr.to_gdal(root_name+'.tif',gdal_format='GTiff')"
     ],
     "language": "python",
     "metadata": {},
     "outputs": []
    }
   ],
   "metadata": {}
  }
 ]
}