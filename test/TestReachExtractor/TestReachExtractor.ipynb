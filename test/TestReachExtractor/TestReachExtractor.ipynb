{
 "metadata": {
  "name": "",
  "signature": "sha256:84300035c1889d28e0f07f53f485620abdc5ee5f2fd6fa30ded72370749d7a1f"
 },
 "nbformat": 3,
 "nbformat_minor": 0,
 "worksheets": [
  {
   "cells": [
    {
     "cell_type": "code",
     "collapsed": false,
     "input": [
      "from SWOTRiver import SWOTL2\n",
      "from SWOTRiver import ReachExtractor\n",
      "\n",
      "%pylab inline"
     ],
     "language": "python",
     "metadata": {},
     "outputs": []
    },
    {
     "cell_type": "code",
     "collapsed": false,
     "input": [
      "data_dir = '/Volumes/Reservoir/Data/SWOT/'\n",
      "l2_file = (data_dir +\n",
      "    'swot_intf_line1_cycle_0001_pass_0277_w0.23_15dB_slp0.1deg.LeftSwath.nc')\n",
      "\n",
      "db_dir = '../../data/nAmerica_GRWDL_river_topo/'\n",
      "shape_file_root = db_dir+'nAmerica_GRWDL_river_topo'"
     ],
     "language": "python",
     "metadata": {},
     "outputs": []
    },
    {
     "cell_type": "code",
     "collapsed": false,
     "input": [
      "l2 = SWOTL2(l2_file)"
     ],
     "language": "python",
     "metadata": {},
     "outputs": []
    },
    {
     "cell_type": "code",
     "collapsed": false,
     "input": [
      "reaches = ReachExtractor(shape_file_root, l2,clip_buffer=0)"
     ],
     "language": "python",
     "metadata": {},
     "outputs": []
    },
    {
     "cell_type": "code",
     "collapsed": false,
     "input": [
      "reaches[0].metadata"
     ],
     "language": "python",
     "metadata": {},
     "outputs": []
    },
    {
     "cell_type": "code",
     "collapsed": false,
     "input": [
      "figsize(6,6)\n",
      "scatter(l2.lon,l2.lat,c=l2.water_height,edgecolor='none',alpha=0.1)\n",
      "for reach in reaches:\n",
      "    lon, lat = reach.lon, reach.lat\n",
      "    plot(lon,lat,'.',alpha=0.1)"
     ],
     "language": "python",
     "metadata": {},
     "outputs": []
    },
    {
     "cell_type": "code",
     "collapsed": false,
     "input": [
      "figsize(6,6)\n",
      "scatter(l2.x/1.e3,l2.y/1.e3,c=l2.water_height,edgecolor='none',alpha=0.1)\n",
      "for reach in reaches:\n",
      "    x, y = reach.x, reach.y\n",
      "    plot(x/1.e3,y/1.e3,'.',alpha=0.1)"
     ],
     "language": "python",
     "metadata": {},
     "outputs": []
    },
    {
     "cell_type": "code",
     "collapsed": false,
     "input": [
      "reaches[0:-1]"
     ],
     "language": "python",
     "metadata": {},
     "outputs": []
    },
    {
     "cell_type": "code",
     "collapsed": false,
     "input": [
      "reaches[:]"
     ],
     "language": "python",
     "metadata": {},
     "outputs": []
    },
    {
     "cell_type": "code",
     "collapsed": false,
     "input": [
      "len(reaches)"
     ],
     "language": "python",
     "metadata": {},
     "outputs": []
    },
    {
     "cell_type": "code",
     "collapsed": false,
     "input": [],
     "language": "python",
     "metadata": {},
     "outputs": []
    }
   ],
   "metadata": {}
  }
 ]
}