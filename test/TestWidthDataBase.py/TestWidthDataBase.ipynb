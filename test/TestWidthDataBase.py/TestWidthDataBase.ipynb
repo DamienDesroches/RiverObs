{
 "cells": [
  {
   "cell_type": "code",
   "execution_count": null,
   "metadata": {},
   "outputs": [],
   "source": [
    "import numpy as N\n",
    "from SWOTRiver import SWOTL2\n",
    "from SWOTRiver import ReachExtractor\n",
    "from SWOTRiver import WidthDataBase\n",
    "\n",
    "%pylab inline\n",
    "\n",
    "# This is for making changes on the fly\n",
    "\n",
    "%load_ext autoreload\n",
    "%autoreload 2"
   ]
  },
  {
   "cell_type": "code",
   "execution_count": null,
   "metadata": {},
   "outputs": [],
   "source": [
    "width_db_dir = '/Volumes/Reservoir/Data/GWD-LR/nAmerica_GRWDL/'\n",
    "db_file = width_db_dir+'nAmerica_GRWDL.h5'\n",
    "\n",
    "data_dir = '/Volumes/Reservoir/Data/SWOT/'\n",
    "#l2_file = (data_dir +\n",
    "#    'swot_intf_line1_cycle_0001_pass_0277_w0.23_15dB_slp0.1deg.LeftSwath.nc')\n",
    "l2_file = (data_dir +\n",
    "'swot_intf_line2-9_cycle_0001_pass_0014_w0.23_15dB_dem0.1slp.RightSwath.nc')\n",
    "db_dir = '../../data/nAmerica_GRWDL_river_topo/'\n",
    "shape_file_root = db_dir+'nAmerica_GRWDL_river_topo'"
   ]
  },
  {
   "cell_type": "code",
   "execution_count": null,
   "metadata": {},
   "outputs": [],
   "source": [
    "l2 = SWOTL2(l2_file)"
   ]
  },
  {
   "cell_type": "code",
   "execution_count": null,
   "metadata": {},
   "outputs": [],
   "source": [
    "clip_buffer = 0.02\n",
    "\n",
    "clip = False\n",
    "reaches_no_clip = ReachExtractor(shape_file_root, l2,clip=clip,\n",
    "                             clip_buffer=clip_buffer)\n",
    "\n",
    "clip = True\n",
    "reaches_clip = ReachExtractor(shape_file_root, l2,clip=clip,\n",
    "                             clip_buffer=clip_buffer)"
   ]
  },
  {
   "cell_type": "code",
   "execution_count": null,
   "metadata": {},
   "outputs": [],
   "source": [
    "print reaches_no_clip.reach_idx, reaches_clip.reach_idx\n",
    "print reaches_no_clip[0].lon.shape, reaches_clip[0].lon.shape"
   ]
  },
  {
   "cell_type": "code",
   "execution_count": null,
   "metadata": {},
   "outputs": [],
   "source": [
    "db = WidthDataBase(db_file)"
   ]
  },
  {
   "cell_type": "code",
   "execution_count": null,
   "metadata": {},
   "outputs": [],
   "source": [
    "reach_index = reaches_no_clip.reach_idx[0]\n",
    "\n",
    "lon_nc,lat_nc = db.get_lon_lat(reach_index)\n",
    "print 'no clip length: %d'%len(lon_nc)\n",
    "\n",
    "lon_c,lat_c,inbbox = db.get_lon_lat(reach_index,\n",
    "                             bounding_box=l2.bounding_box,\n",
    "                             clip_buffer=clip_buffer)\n",
    "\n",
    "print 'clip length: %d'%len(lon_c)\n",
    "                               \n",
    "figsize(10,5)\n",
    "subplot(1,2,1)\n",
    "plot(lon_nc,lat_nc,'.',alpha=0.1)\n",
    "\n",
    "subplot(1,2,2)\n",
    "plot(lon_c,lat_c,'.',alpha=0.1)\n"
   ]
  },
  {
   "cell_type": "code",
   "execution_count": null,
   "metadata": {},
   "outputs": [],
   "source": [
    "reach_index = reaches_no_clip.reach_idx[0]\n",
    "\n",
    "x_nc,y_nc = db.get_xy(reach_index,l2.proj)\n",
    "print 'no clip length: %d'%len(x_nc)\n",
    "\n",
    "x_c,y_c = db.get_xy(reach_index,l2.proj,\n",
    "                             bounding_box=l2.bounding_box,\n",
    "                             clip_buffer=clip_buffer)\n",
    "\n",
    "print 'clip length: %d'%len(x_c)\n",
    "                               \n",
    "figsize(10,5)\n",
    "subplot(1,2,1)\n",
    "plot(x_nc,y_nc,'.',alpha=0.1)\n",
    "\n",
    "subplot(1,2,2)\n",
    "plot(x_c,y_c,'.',alpha=0.1)\n"
   ]
  },
  {
   "cell_type": "code",
   "execution_count": null,
   "metadata": {},
   "outputs": [],
   "source": [
    "reach_index = reaches_no_clip.reach_idx[0]\n",
    "\n",
    "lon_nc,lat_nc,width_nc = db.get_river(reach_index,\n",
    "                                      columns=['long','lat','width'],\n",
    "                             asarray=True,transpose=True)\n",
    "print 'no clip length: %d'%len(lon_nc)\n",
    "\n",
    "lon_c,lat_c,width_c = db.get_river(reach_index,\n",
    "                                      columns=['long','lat','width'],\n",
    "                             asarray=True,transpose=True,\n",
    "                             bounding_box=l2.bounding_box,\n",
    "                             clip_buffer=clip_buffer\n",
    "                             )\n",
    "print 'clip length: %d'%len(lon_c)"
   ]
  },
  {
   "cell_type": "code",
   "execution_count": null,
   "metadata": {},
   "outputs": [],
   "source": [
    "figsize(10,5)\n",
    "\n",
    "subplot(1,2,1)\n",
    "scatter(lon_nc,lat_nc,c=width_nc,edgecolor='none',alpha=0.1)\n",
    "\n",
    "subplot(1,2,2)\n",
    "scatter(lon_c,lat_c,c=width_c,edgecolor='none',alpha=0.1)"
   ]
  }
 ],
 "metadata": {
  "kernelspec": {
   "display_name": "Python 3",
   "language": "python",
   "name": "python3"
  },
  "language_info": {
   "codemirror_mode": {
    "name": "ipython",
    "version": 3
   },
   "file_extension": ".py",
   "mimetype": "text/x-python",
   "name": "python",
   "nbconvert_exporter": "python",
   "pygments_lexer": "ipython3",
   "version": "3.6.1"
  }
 },
 "nbformat": 4,
 "nbformat_minor": 1
}
