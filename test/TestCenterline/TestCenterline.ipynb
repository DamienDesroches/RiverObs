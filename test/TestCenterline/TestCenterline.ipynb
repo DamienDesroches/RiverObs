{
 "metadata": {
  "name": "",
  "signature": "sha256:dc63e88f8353dbf8534385bf81ded21805baaccb3651c9f8cb02514d82023aa0"
 },
 "nbformat": 3,
 "nbformat_minor": 0,
 "worksheets": [
  {
   "cells": [
    {
     "cell_type": "code",
     "collapsed": false,
     "input": [
      "import numpy as N\n",
      "from Centerline import Centerline\n",
      "\n",
      "%pylab inline\n",
      "\n",
      "# This is for making changes on the fly\n",
      "\n",
      "%load_ext autoreload\n",
      "%autoreload 2"
     ],
     "language": "python",
     "metadata": {},
     "outputs": []
    },
    {
     "cell_type": "code",
     "collapsed": false,
     "input": [
      "npoints = 10\n",
      "x = N.arange(npoints)*2*N.pi/npoints\n",
      "y = N.sin(x)"
     ],
     "language": "python",
     "metadata": {},
     "outputs": []
    },
    {
     "cell_type": "code",
     "collapsed": false,
     "input": [
      "cl = Centerline(x,y)"
     ],
     "language": "python",
     "metadata": {},
     "outputs": []
    },
    {
     "cell_type": "code",
     "collapsed": false,
     "input": [
      "x0 = x[5]*0.5 + x[6]*0.5\n",
      "y0 = N.sin(x0) + 0.2\n",
      "x1 = x0\n",
      "y1 = N.sin(x0) - 0.2\n",
      "\n",
      "xx = [x0,x1]\n",
      "yy = [y0,y1]\n",
      "\n",
      "i,d,xcl,ycl,s,n = cl(xx,yy)\n",
      "\n",
      "print i,d,s,n"
     ],
     "language": "python",
     "metadata": {},
     "outputs": []
    },
    {
     "cell_type": "code",
     "collapsed": false,
     "input": [
      "plot(x,y,'o')\n",
      "plot(xx,yy,'rx')\n",
      "plot(xcl,ycl,'ro')\n",
      "plot(x[i],y[i],'gx')"
     ],
     "language": "python",
     "metadata": {},
     "outputs": []
    },
    {
     "cell_type": "code",
     "collapsed": false,
     "input": [
      "cl2 = Centerline(x,y,ds=0.1)"
     ],
     "language": "python",
     "metadata": {},
     "outputs": []
    },
    {
     "cell_type": "code",
     "collapsed": false,
     "input": [
      "i,d,xcl,ycl,s,n = cl2(xx,yy)"
     ],
     "language": "python",
     "metadata": {},
     "outputs": []
    },
    {
     "cell_type": "code",
     "collapsed": false,
     "input": [
      "plot(cl2.x,cl2.y,'o')\n",
      "plot(xx,yy,'rx')\n",
      "plot(xcl,ycl,'ro')\n",
      "plot(cl2.x[i],cl2.y[i],'gx')"
     ],
     "language": "python",
     "metadata": {},
     "outputs": []
    },
    {
     "cell_type": "markdown",
     "metadata": {},
     "source": [
      "Test the centerline with an observation and resampling"
     ]
    },
    {
     "cell_type": "code",
     "collapsed": false,
     "input": [
      "width = 0.5 + 0.25*y\n",
      "clw = Centerline(x,y,obs=[width],obs_names=['width'])"
     ],
     "language": "python",
     "metadata": {},
     "outputs": []
    },
    {
     "cell_type": "code",
     "collapsed": false,
     "input": [
      "plot(clw.x,clw.y,'o')\n",
      "plot(clw.x,clw.y+clw.width,'-k',alpha=0.5)\n",
      "plot(clw.x,clw.y-clw.width,'-k',alpha=0.5)\n"
     ],
     "language": "python",
     "metadata": {},
     "outputs": []
    },
    {
     "cell_type": "code",
     "collapsed": false,
     "input": [
      "width = 0.5 + 0.25*y\n",
      "clw2 = Centerline(x,y,ds=0.1,obs=[width],obs_names=['width'])"
     ],
     "language": "python",
     "metadata": {},
     "outputs": []
    },
    {
     "cell_type": "code",
     "collapsed": false,
     "input": [
      "plot(clw2.x,clw2.y,'o')\n",
      "plot(clw2.x,clw2.y+clw2.width,'-k',alpha=0.5)\n",
      "plot(clw2.x,clw2.y-clw2.width,'-k',alpha=0.5)"
     ],
     "language": "python",
     "metadata": {},
     "outputs": []
    },
    {
     "cell_type": "code",
     "collapsed": false,
     "input": [],
     "language": "python",
     "metadata": {},
     "outputs": []
    }
   ],
   "metadata": {}
  }
 ]
}