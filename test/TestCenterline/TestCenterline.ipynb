{
 "metadata": {
  "name": "",
  "signature": "sha256:80fcc01ea5054f07c505d8e7692cebb3ceeca5463cb340186eed2d7d534614a1"
 },
 "nbformat": 3,
 "nbformat_minor": 0,
 "worksheets": [
  {
   "cells": [
    {
     "cell_type": "code",
     "collapsed": false,
     "input": [
      "import numpy as N\n",
      "from Centerline import Centerline\n",
      "\n",
      "%pylab inline"
     ],
     "language": "python",
     "metadata": {},
     "outputs": []
    },
    {
     "cell_type": "code",
     "collapsed": false,
     "input": [
      "npoints = 10\n",
      "x = N.arange(npoints)*2*N.pi/npoints\n",
      "y = N.sin(x)"
     ],
     "language": "python",
     "metadata": {},
     "outputs": []
    },
    {
     "cell_type": "code",
     "collapsed": false,
     "input": [
      "cl = Centerline(x,y)"
     ],
     "language": "python",
     "metadata": {},
     "outputs": []
    },
    {
     "cell_type": "code",
     "collapsed": false,
     "input": [
      "x0 = x[5]*0.2 + x[6]*0.8\n",
      "y0 = N.sin(x0) + 0.5\n",
      "x1 = x0\n",
      "y1 = N.sin(x0) - 0.5\n",
      "\n",
      "xx = [x0,x1]\n",
      "yy = [y0,y1]\n",
      "\n",
      "i,d,xcl,ycl,s,n = cl(xx,yy)\n",
      "\n",
      "print i,d,s,n"
     ],
     "language": "python",
     "metadata": {},
     "outputs": []
    },
    {
     "cell_type": "code",
     "collapsed": false,
     "input": [
      "plot(x,y,'o')\n",
      "plot(xx,yy,'rx')\n",
      "plot(xcl,ycl,'ro')\n",
      "plot(x[i],y[i],'gx')"
     ],
     "language": "python",
     "metadata": {},
     "outputs": []
    },
    {
     "cell_type": "code",
     "collapsed": false,
     "input": [],
     "language": "python",
     "metadata": {},
     "outputs": []
    }
   ],
   "metadata": {}
  }
 ]
}