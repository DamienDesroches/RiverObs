{
 "metadata": {
  "name": "",
  "signature": "sha256:28501dcf68b8b41eef9334d9b315a69121058faaca2b3dc190fdd908506e9d8e"
 },
 "nbformat": 3,
 "nbformat_minor": 0,
 "worksheets": [
  {
   "cells": [
    {
     "cell_type": "code",
     "collapsed": false,
     "input": [
      "import numpy as N\n",
      "from Centerline import Centerline\n",
      "\n",
      "%pylab inline"
     ],
     "language": "python",
     "metadata": {},
     "outputs": []
    },
    {
     "cell_type": "code",
     "collapsed": false,
     "input": [
      "npoints = 10\n",
      "x = N.arange(npoints)*2*N.pi/npoints\n",
      "y = N.sin(x)"
     ],
     "language": "python",
     "metadata": {},
     "outputs": []
    },
    {
     "cell_type": "code",
     "collapsed": false,
     "input": [
      "cl = Centerline(x,y)"
     ],
     "language": "python",
     "metadata": {},
     "outputs": []
    },
    {
     "cell_type": "code",
     "collapsed": false,
     "input": [
      "x0 = x[5]*0.5 + x[6]*0.5\n",
      "y0 = N.sin(x0) + 0.2\n",
      "x1 = x0\n",
      "y1 = N.sin(x0) - 0.2\n",
      "\n",
      "xx = [x0,x1]\n",
      "yy = [y0,y1]\n",
      "\n",
      "i,d,xcl,ycl,s,n = cl(xx,yy)\n",
      "\n",
      "print i,d,s,n"
     ],
     "language": "python",
     "metadata": {},
     "outputs": []
    },
    {
     "cell_type": "code",
     "collapsed": false,
     "input": [
      "plot(x,y,'o')\n",
      "plot(xx,yy,'rx')\n",
      "plot(xcl,ycl,'ro')\n",
      "plot(x[i],y[i],'gx')"
     ],
     "language": "python",
     "metadata": {},
     "outputs": []
    },
    {
     "cell_type": "code",
     "collapsed": false,
     "input": [
      "cl2 = Centerline(x,y,ds=0.1)"
     ],
     "language": "python",
     "metadata": {},
     "outputs": []
    },
    {
     "cell_type": "code",
     "collapsed": false,
     "input": [
      "i,d,xcl,ycl,s,n = cl2(xx,yy)"
     ],
     "language": "python",
     "metadata": {},
     "outputs": []
    },
    {
     "cell_type": "code",
     "collapsed": false,
     "input": [
      "plot(cl2.x,cl2.y,'o')\n",
      "plot(xx,yy,'rx')\n",
      "plot(xcl,ycl,'ro')\n",
      "plot(cl2.x[i],cl2.y[i],'gx')"
     ],
     "language": "python",
     "metadata": {},
     "outputs": []
    },
    {
     "cell_type": "code",
     "collapsed": false,
     "input": [],
     "language": "python",
     "metadata": {},
     "outputs": []
    }
   ],
   "metadata": {}
  }
 ]
}