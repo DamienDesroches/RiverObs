{
 "metadata": {
  "name": "",
  "signature": "sha256:11e603a84963827a82f8fa365cc78fe8343f2e69c5b57805203462aa13b4c515"
 },
 "nbformat": 3,
 "nbformat_minor": 0,
 "worksheets": [
  {
   "cells": [
    {
     "cell_type": "code",
     "collapsed": false,
     "input": [
      "from GWDLR import GWDLR2shape"
     ],
     "language": "python",
     "metadata": {},
     "outputs": []
    },
    {
     "cell_type": "code",
     "collapsed": false,
     "input": [
      "gwdlr_data_dir = '../../data'\n",
      "output_dir = '/Volumes/Reservoir/Data/GWD-LRVectors/na1'\n",
      "rootname = 'n35w125_wth'\n",
      "min_width = 50"
     ],
     "language": "python",
     "metadata": {},
     "outputs": []
    },
    {
     "cell_type": "code",
     "collapsed": false,
     "input": [
      "g2s = GWDLR2shape(gwdlr_data_dir,output_dir)"
     ],
     "language": "python",
     "metadata": {},
     "outputs": []
    },
    {
     "cell_type": "code",
     "collapsed": false,
     "input": [
      "g2s.process_tile(rootname,min_width)"
     ],
     "language": "python",
     "metadata": {},
     "outputs": []
    },
    {
     "cell_type": "code",
     "collapsed": false,
     "input": [],
     "language": "python",
     "metadata": {},
     "outputs": []
    }
   ],
   "metadata": {}
  }
 ]
}