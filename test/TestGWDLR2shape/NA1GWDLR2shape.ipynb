{
 "metadata": {
  "name": "",
  "signature": "sha256:e7f97d29da6741100f66ec464614c9ee1e6b7f96b83569bb423275981bfb3e5d"
 },
 "nbformat": 3,
 "nbformat_minor": 0,
 "worksheets": [
  {
   "cells": [
    {
     "cell_type": "code",
     "collapsed": false,
     "input": [
      "from glob import glob\n",
      "from os.path import join, splitext, split\n",
      "from GWDLR import GWDLR2shape"
     ],
     "language": "python",
     "metadata": {},
     "outputs": []
    },
    {
     "cell_type": "code",
     "collapsed": false,
     "input": [
      "gwdlr_data_dir = '/Volumes/Reservoir/Data/GWD-LR/na1'\n",
      "output_dir = '/Volumes/Reservoir/Data/GWD-LRVectors/na1'\n",
      "#rootname = 'n35w125_wth'\n",
      "min_width = 50"
     ],
     "language": "python",
     "metadata": {},
     "outputs": []
    },
    {
     "cell_type": "code",
     "collapsed": false,
     "input": [
      "bin_file = glob(join(gwdlr_data_dir,'*.bin'))"
     ],
     "language": "python",
     "metadata": {},
     "outputs": []
    },
    {
     "cell_type": "code",
     "collapsed": false,
     "input": [
      "splitext(split(bin_file[0])[1])[0]"
     ],
     "language": "python",
     "metadata": {},
     "outputs": []
    },
    {
     "cell_type": "code",
     "collapsed": false,
     "input": [
      "g2s = GWDLR2shape(gwdlr_data_dir,output_dir)"
     ],
     "language": "python",
     "metadata": {},
     "outputs": []
    },
    {
     "cell_type": "code",
     "collapsed": false,
     "input": [
      "for tile in bin_file:\n",
      "    rootname = splitext(split(tile)[1])[0]\n",
      "    print 'Processing: ',tile\n",
      "    g2s.process_tile(rootname,min_width)"
     ],
     "language": "python",
     "metadata": {},
     "outputs": []
    },
    {
     "cell_type": "code",
     "collapsed": false,
     "input": [],
     "language": "python",
     "metadata": {},
     "outputs": []
    }
   ],
   "metadata": {}
  }
 ]
}