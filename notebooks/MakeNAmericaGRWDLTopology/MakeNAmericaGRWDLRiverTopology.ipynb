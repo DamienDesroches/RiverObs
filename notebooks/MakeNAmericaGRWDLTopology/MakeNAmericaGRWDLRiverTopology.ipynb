{
 "metadata": {
  "name": "",
  "signature": "sha256:b6c351e30d91734e44041c14ce90060c9769838ffe14312e94e02099b1366df2"
 },
 "nbformat": 3,
 "nbformat_minor": 0,
 "worksheets": [
  {
   "cells": [
    {
     "cell_type": "code",
     "collapsed": false,
     "input": [
      "import numpy as N\n",
      "import pandas as pd\n",
      "\n",
      "import sys\n",
      "sys.path.append('~/PythonLib')\n",
      "from GDALOGRUtilities import OGRWriter\n",
      "\n",
      "%pylab inline"
     ],
     "language": "python",
     "metadata": {},
     "outputs": [
      {
       "output_type": "stream",
       "stream": "stdout",
       "text": [
        "Populating the interactive namespace from numpy and matplotlib\n"
       ]
      }
     ],
     "prompt_number": 1
    },
    {
     "cell_type": "code",
     "collapsed": false,
     "input": [
      "def arc_distance(lon,lat):\n",
      "    \"\"\"Calculate distance in meters between subsequent points.\"\"\"\n",
      "    \n",
      "    R = 6378.e3 # approximate earth radius\n",
      "    deg2rad = N.pi/180.\n",
      "    \n",
      "    lon = N.asarray(lon)\n",
      "    lat = N.asarray(lat)\n",
      "    d = N.zeros(len(lon),dtype=N.float32)\n",
      "    \n",
      "    dlon = (lon[1:] - lon[0:-1])*deg2rad\n",
      "    dlat = (lat[1:] - lat[0:-1])*deg2rad\n",
      "    latmean = N.mean(lat)*deg2rad\n",
      "    \n",
      "    dx = dlon*N.cos(latmean)*R\n",
      "    dy = dlat*R\n",
      "    \n",
      "    d[0:-1] = N.sqrt(dx**2 + dy**2)\n",
      "    \n",
      "    return d"
     ],
     "language": "python",
     "metadata": {},
     "outputs": [],
     "prompt_number": 2
    },
    {
     "cell_type": "code",
     "collapsed": false,
     "input": [
      "def get_reach_index_length(distance,threshold=100.):\n",
      "    \"\"\"Get contiguous river reaches by associating points\n",
      "    separated by a distance less than threshold.\"\"\"\n",
      "    \n",
      "    # Declare an index associated with each point\n",
      "    \n",
      "    reach_index = N.zeros(len(distance),dtype=N.int32)\n",
      "    \n",
      "    # Declare a reach length associated with each point\n",
      "    \n",
      "    reach_length = N.zeros(len(distance),dtype=N.float32)\n",
      "    \n",
      "    # Find all of the locations where the distance exceeds the threshold\n",
      "    \n",
      "    break_idx = N.flatnonzero(distance > threshold)\n",
      "    \n",
      "    nreaches = len(break_idx)\n",
      "    total_reach = N.zeros(nreaches,dtype=N.float32)\n",
      "    npoints = N.zeros(nreaches,dtype=N.int32)\n",
      "    \n",
      "    print('Number of reaches found: %d'%nreaches)\n",
      "    \n",
      "    # Iterate through each reach to set the index and compute the length\n",
      "    \n",
      "    istart = 0\n",
      "    for i in range(nreaches):\n",
      "        iend = break_idx[i]\n",
      "        reach_index[istart:iend+1] = i\n",
      "        reach_length[istart+1:iend+1] = N.cumsum(distance[istart:iend])\n",
      "        npoints[i] = iend - istart + 1\n",
      "        total_reach[i] = N.max(reach_length[istart:iend+1])\n",
      "        \n",
      "        istart = iend + 1\n",
      "        \n",
      "    return reach_index, reach_length, break_idx, total_reach, npoints"
     ],
     "language": "python",
     "metadata": {},
     "outputs": [],
     "prompt_number": 3
    },
    {
     "cell_type": "code",
     "collapsed": false,
     "input": [
      "def find_bounding_box(lon,lat,break_idx):\n",
      "    \"\"\"Return the bounding box for each reach.\"\"\"\n",
      "    \n",
      "    lon = N.asarray(lon)\n",
      "    lat = N.asarray(lat)\n",
      "    \n",
      "    nbreak = len(break_idx)\n",
      "    latmin = N.zeros(nbreak,dtype=N.float32)\n",
      "    latmax = N.zeros(nbreak,dtype=N.float32)\n",
      "    lonmin = N.zeros(nbreak,dtype=N.float32)\n",
      "    lonmax = N.zeros(nbreak,dtype=N.float32)\n",
      "    \n",
      "    istart = 0\n",
      "    for i in range(nbreak):\n",
      "        iend = break_idx[i]\n",
      "        lonmin[i] = lon[istart:iend+1].min()\n",
      "        lonmax[i] = lon[istart:iend+1].max()\n",
      "        latmin[i] = lat[istart:iend+1].min()\n",
      "        latmax[i] = lat[istart:iend+1].max()\n",
      "        istart = iend + 1\n",
      "        \n",
      "    return lonmin, lonmax, latmin, latmax"
     ],
     "language": "python",
     "metadata": {},
     "outputs": [],
     "prompt_number": 4
    },
    {
     "cell_type": "code",
     "collapsed": false,
     "input": [
      "def get_width_stats(width,break_idx):\n",
      "    \"\"\"Return mean and standard deviation for each reach.\"\"\"\n",
      "    \n",
      "    width = N.asarray(width).astype(N.float32)\n",
      "    \n",
      "    nbreak = len(break_idx)\n",
      "    width_mean = N.zeros(nbreak,dtype=N.float32)\n",
      "    width_std = N.zeros(nbreak,dtype=N.float32)\n",
      "    width_min = N.zeros(nbreak,dtype=N.float32)\n",
      "    width_max = N.zeros(nbreak,dtype=N.float32)\n",
      "    \n",
      "    istart = 0\n",
      "    for i in range(nbreak):\n",
      "        iend = break_idx[i]\n",
      "        width_mean[i] = N.mean(width[istart:iend+1])\n",
      "        width_std[i] = N.std(width[istart:iend+1])\n",
      "        width_min[i] = N.min(width[istart:iend+1])\n",
      "        width_max[i] = N.max(width[istart:iend+1])\n",
      "        istart = iend + 1\n",
      "        \n",
      "    return width_mean, width_std, width_min, width_max"
     ],
     "language": "python",
     "metadata": {},
     "outputs": [],
     "prompt_number": 5
    },
    {
     "cell_type": "code",
     "collapsed": false,
     "input": [
      "def write_to_ogr(writer,river_df,reach_df):\n",
      "    \"\"\"Write to a OGR supported driver.\"\"\"\n",
      "    \n",
      "    istart = 0\n",
      "    for i in range(len(reach_df)):\n",
      "        record = reach_df.iloc[i]\n",
      "        iend = int(record['break_idx'])\n",
      "        \n",
      "        lon = N.asarray(river_df['long'][istart:iend+1])\n",
      "        lat = N.asarray(river_df['lat'][istart:iend+1])\n",
      "        \n",
      "        field_record = {'break_idx':int(record['break_idx']),\n",
      "          'npoints':int(record['npoints']),\n",
      "          'reach':float(record['reach']),\n",
      "          'lonmin':float(record['lonmin']),\n",
      "          'lonmax':float(record['lonmax']),\n",
      "          'latmin':float(record['latmin']),\n",
      "          'latmax':float(record['latmax']),\n",
      "          'width_mean':float(record['width_mean']),\n",
      "          'width_std':float(record['width_std']),\n",
      "          'width_min':float(record['width_min']),\n",
      "          'width_max':float(record['width_max']),\n",
      "          }\n",
      "        \n",
      "        if (len(lon) > 2) and (record['npoints']>2) :\n",
      "            writer.add_xy_feature(lon,lat,field_record)\n",
      "        \n",
      "        istart = iend + 1"
     ],
     "language": "python",
     "metadata": {},
     "outputs": [],
     "prompt_number": 6
    },
    {
     "cell_type": "code",
     "collapsed": false,
     "input": [
      "dt = {'width':N.int16,'nchannels':N.int8,'reservoir':N.float32,\n",
      "      'long':N.float32,'lat':N.float32}\n",
      "river_df = pd.read_csv('nAmerica_GRWDL.csv',dtype=dt)"
     ],
     "language": "python",
     "metadata": {},
     "outputs": [],
     "prompt_number": 7
    },
    {
     "cell_type": "code",
     "collapsed": false,
     "input": [
      "# drop missing data\n",
      "\n",
      "river_df = river_df.dropna()"
     ],
     "language": "python",
     "metadata": {},
     "outputs": [],
     "prompt_number": 8
    },
    {
     "cell_type": "code",
     "collapsed": false,
     "input": [
      "distance = arc_distance(river_df['long'],river_df['lat'])"
     ],
     "language": "python",
     "metadata": {},
     "outputs": [],
     "prompt_number": 9
    },
    {
     "cell_type": "code",
     "collapsed": false,
     "input": [
      "threshold = 1000 # Maximum break before the start of a new reach\n",
      "reach_index, reach_length, break_idx, total_reach, npoints = \\\n",
      "get_reach_index_length(distance,threshold=threshold)"
     ],
     "language": "python",
     "metadata": {},
     "outputs": [
      {
       "output_type": "stream",
       "stream": "stdout",
       "text": [
        "Number of reaches found: 8482\n"
       ]
      }
     ],
     "prompt_number": 10
    },
    {
     "cell_type": "code",
     "collapsed": false,
     "input": [
      "# Add the additional columns to the data frame\n",
      "\n",
      "river_df['reach_index'] = reach_index\n",
      "river_df['reach'] = reach_length"
     ],
     "language": "python",
     "metadata": {},
     "outputs": [],
     "prompt_number": 11
    },
    {
     "cell_type": "code",
     "collapsed": false,
     "input": [
      "river_df.head()"
     ],
     "language": "python",
     "metadata": {},
     "outputs": [
      {
       "html": [
        "<div style=\"max-height:1000px;max-width:1500px;overflow:auto;\">\n",
        "<table border=\"1\" class=\"dataframe\">\n",
        "  <thead>\n",
        "    <tr style=\"text-align: right;\">\n",
        "      <th></th>\n",
        "      <th>width</th>\n",
        "      <th>nchannels</th>\n",
        "      <th>reservoir</th>\n",
        "      <th>long</th>\n",
        "      <th>lat</th>\n",
        "      <th>reach_index</th>\n",
        "      <th>reach</th>\n",
        "    </tr>\n",
        "  </thead>\n",
        "  <tbody>\n",
        "    <tr>\n",
        "      <th>0</th>\n",
        "      <td> 150</td>\n",
        "      <td> 1</td>\n",
        "      <td> 0</td>\n",
        "      <td>-163.897995</td>\n",
        "      <td> 55.023300</td>\n",
        "      <td> 0</td>\n",
        "      <td>   0.000000</td>\n",
        "    </tr>\n",
        "    <tr>\n",
        "      <th>1</th>\n",
        "      <td> 150</td>\n",
        "      <td> 1</td>\n",
        "      <td> 0</td>\n",
        "      <td>-163.897995</td>\n",
        "      <td> 55.023102</td>\n",
        "      <td> 0</td>\n",
        "      <td>  22.081333</td>\n",
        "    </tr>\n",
        "    <tr>\n",
        "      <th>2</th>\n",
        "      <td> 150</td>\n",
        "      <td> 1</td>\n",
        "      <td> 0</td>\n",
        "      <td>-163.897995</td>\n",
        "      <td> 55.022800</td>\n",
        "      <td> 0</td>\n",
        "      <td>  55.627972</td>\n",
        "    </tr>\n",
        "    <tr>\n",
        "      <th>3</th>\n",
        "      <td> 150</td>\n",
        "      <td> 1</td>\n",
        "      <td> 0</td>\n",
        "      <td>-163.899002</td>\n",
        "      <td> 55.022499</td>\n",
        "      <td> 0</td>\n",
        "      <td> 138.378937</td>\n",
        "    </tr>\n",
        "    <tr>\n",
        "      <th>4</th>\n",
        "      <td> 192</td>\n",
        "      <td> 1</td>\n",
        "      <td> 0</td>\n",
        "      <td>-163.899002</td>\n",
        "      <td> 55.022301</td>\n",
        "      <td> 0</td>\n",
        "      <td> 160.460266</td>\n",
        "    </tr>\n",
        "  </tbody>\n",
        "</table>\n",
        "<p>5 rows \u00d7 7 columns</p>\n",
        "</div>"
       ],
       "metadata": {},
       "output_type": "pyout",
       "prompt_number": 12,
       "text": [
        "   width  nchannels  reservoir        long        lat  reach_index       reach\n",
        "0    150          1          0 -163.897995  55.023300            0    0.000000\n",
        "1    150          1          0 -163.897995  55.023102            0   22.081333\n",
        "2    150          1          0 -163.897995  55.022800            0   55.627972\n",
        "3    150          1          0 -163.899002  55.022499            0  138.378937\n",
        "4    192          1          0 -163.899002  55.022301            0  160.460266\n",
        "\n",
        "[5 rows x 7 columns]"
       ]
      }
     ],
     "prompt_number": 12
    },
    {
     "cell_type": "code",
     "collapsed": false,
     "input": [
      "%pylab inline\n",
      "hist(total_reach/1.e3,bins=N.arange(0,100,0.5),log=True);"
     ],
     "language": "python",
     "metadata": {},
     "outputs": [
      {
       "output_type": "stream",
       "stream": "stdout",
       "text": [
        "Populating the interactive namespace from numpy and matplotlib\n"
       ]
      },
      {
       "metadata": {},
       "output_type": "display_data",
       "png": "[encoded data removed]",
       "text": [
        "<matplotlib.figure.Figure at 0x10942d310>"
       ]
      }
     ],
     "prompt_number": 13
    },
    {
     "cell_type": "code",
     "collapsed": false,
     "input": [
      "# Get the bounding box\n",
      "\n",
      "lonmin, lonmax, latmin, latmax = find_bounding_box(river_df['long'],\n",
      "                                                   river_df['lat'],\n",
      "                                                   break_idx)"
     ],
     "language": "python",
     "metadata": {},
     "outputs": [],
     "prompt_number": 14
    },
    {
     "cell_type": "code",
     "collapsed": false,
     "input": [
      "width_mean, width_std, width_min, width_max = \\\n",
      "get_width_stats(river_df['width'],break_idx)"
     ],
     "language": "python",
     "metadata": {},
     "outputs": [],
     "prompt_number": 15
    },
    {
     "cell_type": "code",
     "collapsed": false,
     "input": [
      "# Place the reach results in a data frame\n",
      "\n",
      "reach_df = pd.DataFrame({'break_idx':break_idx,\n",
      "                         'npoints':npoints,\n",
      "                         'reach':total_reach,\n",
      "                         'lonmin':lonmin,\n",
      "                         'lonmax':lonmax,\n",
      "                         'latmin':latmin,\n",
      "                         'latmax':latmax,\n",
      "                         'width_mean':width_mean,\n",
      "                         'width_std':width_std,\n",
      "                         'width_min':width_min,\n",
      "                         'width_max':width_max,\n",
      "                         })"
     ],
     "language": "python",
     "metadata": {},
     "outputs": [],
     "prompt_number": 16
    },
    {
     "cell_type": "code",
     "collapsed": false,
     "input": [
      "reach_df.head()"
     ],
     "language": "python",
     "metadata": {},
     "outputs": [
      {
       "html": [
        "<div style=\"max-height:1000px;max-width:1500px;overflow:auto;\">\n",
        "<table border=\"1\" class=\"dataframe\">\n",
        "  <thead>\n",
        "    <tr style=\"text-align: right;\">\n",
        "      <th></th>\n",
        "      <th>break_idx</th>\n",
        "      <th>latmax</th>\n",
        "      <th>latmin</th>\n",
        "      <th>lonmax</th>\n",
        "      <th>lonmin</th>\n",
        "      <th>npoints</th>\n",
        "      <th>reach</th>\n",
        "      <th>width_max</th>\n",
        "      <th>width_mean</th>\n",
        "      <th>width_min</th>\n",
        "      <th>width_std</th>\n",
        "    </tr>\n",
        "  </thead>\n",
        "  <tbody>\n",
        "    <tr>\n",
        "      <th>0</th>\n",
        "      <td>  661</td>\n",
        "      <td> 55.023300</td>\n",
        "      <td> 54.847401</td>\n",
        "      <td>-163.845993</td>\n",
        "      <td>-163.904007</td>\n",
        "      <td>  662</td>\n",
        "      <td> 26237.072266</td>\n",
        "      <td> 417</td>\n",
        "      <td> 181.191849</td>\n",
        "      <td> 30</td>\n",
        "      <td> 74.898125</td>\n",
        "    </tr>\n",
        "    <tr>\n",
        "      <th>1</th>\n",
        "      <td> 1097</td>\n",
        "      <td> 54.712601</td>\n",
        "      <td> 54.608898</td>\n",
        "      <td>-164.561005</td>\n",
        "      <td>-164.638000</td>\n",
        "      <td>  436</td>\n",
        "      <td> 17917.480469</td>\n",
        "      <td> 323</td>\n",
        "      <td> 140.463303</td>\n",
        "      <td> 30</td>\n",
        "      <td> 59.323334</td>\n",
        "    </tr>\n",
        "    <tr>\n",
        "      <th>2</th>\n",
        "      <td> 1529</td>\n",
        "      <td> 55.031898</td>\n",
        "      <td> 54.941799</td>\n",
        "      <td>-163.692993</td>\n",
        "      <td>-163.753006</td>\n",
        "      <td>  432</td>\n",
        "      <td> 17512.716797</td>\n",
        "      <td> 189</td>\n",
        "      <td>  61.976852</td>\n",
        "      <td> 30</td>\n",
        "      <td> 30.376234</td>\n",
        "    </tr>\n",
        "    <tr>\n",
        "      <th>3</th>\n",
        "      <td> 3438</td>\n",
        "      <td> 59.993599</td>\n",
        "      <td> 59.937599</td>\n",
        "      <td>-163.610001</td>\n",
        "      <td>-164.121002</td>\n",
        "      <td> 1909</td>\n",
        "      <td> 85866.937500</td>\n",
        "      <td> 560</td>\n",
        "      <td> 194.303299</td>\n",
        "      <td> 30</td>\n",
        "      <td> 99.383278</td>\n",
        "    </tr>\n",
        "    <tr>\n",
        "      <th>4</th>\n",
        "      <td> 3683</td>\n",
        "      <td> 59.940899</td>\n",
        "      <td> 59.928001</td>\n",
        "      <td>-162.000000</td>\n",
        "      <td>-162.098999</td>\n",
        "      <td>  245</td>\n",
        "      <td> 10809.191406</td>\n",
        "      <td> 379</td>\n",
        "      <td> 246.257141</td>\n",
        "      <td> 30</td>\n",
        "      <td> 46.900105</td>\n",
        "    </tr>\n",
        "  </tbody>\n",
        "</table>\n",
        "<p>5 rows \u00d7 11 columns</p>\n",
        "</div>"
       ],
       "metadata": {},
       "output_type": "pyout",
       "prompt_number": 17,
       "text": [
        "   break_idx     latmax     latmin      lonmax      lonmin  npoints  \\\n",
        "0        661  55.023300  54.847401 -163.845993 -163.904007      662   \n",
        "1       1097  54.712601  54.608898 -164.561005 -164.638000      436   \n",
        "2       1529  55.031898  54.941799 -163.692993 -163.753006      432   \n",
        "3       3438  59.993599  59.937599 -163.610001 -164.121002     1909   \n",
        "4       3683  59.940899  59.928001 -162.000000 -162.098999      245   \n",
        "\n",
        "          reach  width_max  width_mean  width_min  width_std  \n",
        "0  26237.072266        417  181.191849         30  74.898125  \n",
        "1  17917.480469        323  140.463303         30  59.323334  \n",
        "2  17512.716797        189   61.976852         30  30.376234  \n",
        "3  85866.937500        560  194.303299         30  99.383278  \n",
        "4  10809.191406        379  246.257141         30  46.900105  \n",
        "\n",
        "[5 rows x 11 columns]"
       ]
      }
     ],
     "prompt_number": 17
    },
    {
     "cell_type": "code",
     "collapsed": false,
     "input": [
      "# Output data\n",
      "\n",
      "store = pd.HDFStore('nAmerica_GRWDL.h5',mode='w',complevel=9)\n",
      "store['river'] = river_df\n",
      "store['reach'] = reach_df\n",
      "store.close()"
     ],
     "language": "python",
     "metadata": {},
     "outputs": [],
     "prompt_number": 18
    },
    {
     "cell_type": "code",
     "collapsed": false,
     "input": [
      "river_df.to_csv('nAmerica_GRWDL_river_topo.csv',mode='w')"
     ],
     "language": "python",
     "metadata": {},
     "outputs": [],
     "prompt_number": 19
    },
    {
     "cell_type": "code",
     "collapsed": false,
     "input": [
      "reach_df.to_csv('nAmerica_GRWDL_reach_topo.csv',mode='w')"
     ],
     "language": "python",
     "metadata": {},
     "outputs": [],
     "prompt_number": 20
    },
    {
     "cell_type": "code",
     "collapsed": false,
     "input": [
      "# Define the output fields and the writer\n",
      "\n",
      "driver = 'ESRI Shapefile'\n",
      "output_file = 'nAmerica_GRWDL_river_topo'\n",
      "\n",
      "fields = {'break_idx':'int',\n",
      "          'npoints':'int',\n",
      "          'reach':'float',\n",
      "          'lonmin':'float',\n",
      "          'lonmax':'float',\n",
      "          'latmin':'float',\n",
      "          'latmax':'float',\n",
      "          'width_mean':'float',\n",
      "          'width_std':'float',\n",
      "          'width_min':'float',\n",
      "          'width_max':'float',\n",
      "          }\n",
      "\n",
      "writer = OGRWriter(output_file,fields=fields,geometry='LineString')"
     ],
     "language": "python",
     "metadata": {},
     "outputs": [],
     "prompt_number": 21
    },
    {
     "cell_type": "code",
     "collapsed": false,
     "input": [
      "write_to_ogr(writer,river_df,reach_df)"
     ],
     "language": "python",
     "metadata": {},
     "outputs": [],
     "prompt_number": 22
    },
    {
     "cell_type": "code",
     "collapsed": false,
     "input": [
      "writer.close()"
     ],
     "language": "python",
     "metadata": {},
     "outputs": [],
     "prompt_number": 23
    },
    {
     "cell_type": "code",
     "collapsed": false,
     "input": [
      "plot(reach_df['total_reach'],reach_df['npoints'],'.')\n",
      "xlim(-5,5)\n",
      "ylim(-5,5)\n",
      "grid()"
     ],
     "language": "python",
     "metadata": {},
     "outputs": [
      {
       "ename": "KeyError",
       "evalue": "u'no item named total_reach'",
       "output_type": "pyerr",
       "traceback": [
        "\u001b[0;31m---------------------------------------------------------------------------\u001b[0m\n\u001b[0;31mKeyError\u001b[0m                                  Traceback (most recent call last)",
        "\u001b[0;32m<ipython-input-24-fc335e8a9519>\u001b[0m in \u001b[0;36m<module>\u001b[0;34m()\u001b[0m\n\u001b[0;32m----> 1\u001b[0;31m \u001b[0mplot\u001b[0m\u001b[0;34m(\u001b[0m\u001b[0mreach_df\u001b[0m\u001b[0;34m[\u001b[0m\u001b[0;34m'total_reach'\u001b[0m\u001b[0;34m]\u001b[0m\u001b[0;34m,\u001b[0m\u001b[0mreach_df\u001b[0m\u001b[0;34m[\u001b[0m\u001b[0;34m'npoints'\u001b[0m\u001b[0;34m]\u001b[0m\u001b[0;34m,\u001b[0m\u001b[0;34m'.'\u001b[0m\u001b[0;34m)\u001b[0m\u001b[0;34m\u001b[0m\u001b[0m\n\u001b[0m\u001b[1;32m      2\u001b[0m \u001b[0mxlim\u001b[0m\u001b[0;34m(\u001b[0m\u001b[0;34m-\u001b[0m\u001b[0;36m5\u001b[0m\u001b[0;34m,\u001b[0m\u001b[0;36m5\u001b[0m\u001b[0;34m)\u001b[0m\u001b[0;34m\u001b[0m\u001b[0m\n\u001b[1;32m      3\u001b[0m \u001b[0mylim\u001b[0m\u001b[0;34m(\u001b[0m\u001b[0;34m-\u001b[0m\u001b[0;36m5\u001b[0m\u001b[0;34m,\u001b[0m\u001b[0;36m5\u001b[0m\u001b[0;34m)\u001b[0m\u001b[0;34m\u001b[0m\u001b[0m\n\u001b[1;32m      4\u001b[0m \u001b[0mgrid\u001b[0m\u001b[0;34m(\u001b[0m\u001b[0;34m)\u001b[0m\u001b[0;34m\u001b[0m\u001b[0m\n",
        "\u001b[0;32m/Users/er/anaconda/lib/python2.7/site-packages/pandas/core/frame.pyc\u001b[0m in \u001b[0;36m__getitem__\u001b[0;34m(self, key)\u001b[0m\n\u001b[1;32m   1656\u001b[0m             \u001b[0;32mreturn\u001b[0m \u001b[0mself\u001b[0m\u001b[0;34m.\u001b[0m\u001b[0m_getitem_multilevel\u001b[0m\u001b[0;34m(\u001b[0m\u001b[0mkey\u001b[0m\u001b[0;34m)\u001b[0m\u001b[0;34m\u001b[0m\u001b[0m\n\u001b[1;32m   1657\u001b[0m         \u001b[0;32melse\u001b[0m\u001b[0;34m:\u001b[0m\u001b[0;34m\u001b[0m\u001b[0m\n\u001b[0;32m-> 1658\u001b[0;31m             \u001b[0;32mreturn\u001b[0m \u001b[0mself\u001b[0m\u001b[0;34m.\u001b[0m\u001b[0m_getitem_column\u001b[0m\u001b[0;34m(\u001b[0m\u001b[0mkey\u001b[0m\u001b[0;34m)\u001b[0m\u001b[0;34m\u001b[0m\u001b[0m\n\u001b[0m\u001b[1;32m   1659\u001b[0m \u001b[0;34m\u001b[0m\u001b[0m\n\u001b[1;32m   1660\u001b[0m     \u001b[0;32mdef\u001b[0m \u001b[0m_getitem_column\u001b[0m\u001b[0;34m(\u001b[0m\u001b[0mself\u001b[0m\u001b[0;34m,\u001b[0m \u001b[0mkey\u001b[0m\u001b[0;34m)\u001b[0m\u001b[0;34m:\u001b[0m\u001b[0;34m\u001b[0m\u001b[0m\n",
        "\u001b[0;32m/Users/er/anaconda/lib/python2.7/site-packages/pandas/core/frame.pyc\u001b[0m in \u001b[0;36m_getitem_column\u001b[0;34m(self, key)\u001b[0m\n\u001b[1;32m   1663\u001b[0m         \u001b[0;31m# get column\u001b[0m\u001b[0;34m\u001b[0m\u001b[0;34m\u001b[0m\u001b[0m\n\u001b[1;32m   1664\u001b[0m         \u001b[0;32mif\u001b[0m \u001b[0mself\u001b[0m\u001b[0;34m.\u001b[0m\u001b[0mcolumns\u001b[0m\u001b[0;34m.\u001b[0m\u001b[0mis_unique\u001b[0m\u001b[0;34m:\u001b[0m\u001b[0;34m\u001b[0m\u001b[0m\n\u001b[0;32m-> 1665\u001b[0;31m             \u001b[0;32mreturn\u001b[0m \u001b[0mself\u001b[0m\u001b[0;34m.\u001b[0m\u001b[0m_get_item_cache\u001b[0m\u001b[0;34m(\u001b[0m\u001b[0mkey\u001b[0m\u001b[0;34m)\u001b[0m\u001b[0;34m\u001b[0m\u001b[0m\n\u001b[0m\u001b[1;32m   1666\u001b[0m \u001b[0;34m\u001b[0m\u001b[0m\n\u001b[1;32m   1667\u001b[0m         \u001b[0;31m# duplicate columns & possible reduce dimensionaility\u001b[0m\u001b[0;34m\u001b[0m\u001b[0;34m\u001b[0m\u001b[0m\n",
        "\u001b[0;32m/Users/er/anaconda/lib/python2.7/site-packages/pandas/core/generic.pyc\u001b[0m in \u001b[0;36m_get_item_cache\u001b[0;34m(self, item)\u001b[0m\n\u001b[1;32m   1003\u001b[0m         \u001b[0mres\u001b[0m \u001b[0;34m=\u001b[0m \u001b[0mcache\u001b[0m\u001b[0;34m.\u001b[0m\u001b[0mget\u001b[0m\u001b[0;34m(\u001b[0m\u001b[0mitem\u001b[0m\u001b[0;34m)\u001b[0m\u001b[0;34m\u001b[0m\u001b[0m\n\u001b[1;32m   1004\u001b[0m         \u001b[0;32mif\u001b[0m \u001b[0mres\u001b[0m \u001b[0;32mis\u001b[0m \u001b[0mNone\u001b[0m\u001b[0;34m:\u001b[0m\u001b[0;34m\u001b[0m\u001b[0m\n\u001b[0;32m-> 1005\u001b[0;31m             \u001b[0mvalues\u001b[0m \u001b[0;34m=\u001b[0m \u001b[0mself\u001b[0m\u001b[0;34m.\u001b[0m\u001b[0m_data\u001b[0m\u001b[0;34m.\u001b[0m\u001b[0mget\u001b[0m\u001b[0;34m(\u001b[0m\u001b[0mitem\u001b[0m\u001b[0;34m)\u001b[0m\u001b[0;34m\u001b[0m\u001b[0m\n\u001b[0m\u001b[1;32m   1006\u001b[0m             \u001b[0mres\u001b[0m \u001b[0;34m=\u001b[0m \u001b[0mself\u001b[0m\u001b[0;34m.\u001b[0m\u001b[0m_box_item_values\u001b[0m\u001b[0;34m(\u001b[0m\u001b[0mitem\u001b[0m\u001b[0;34m,\u001b[0m \u001b[0mvalues\u001b[0m\u001b[0;34m)\u001b[0m\u001b[0;34m\u001b[0m\u001b[0m\n\u001b[1;32m   1007\u001b[0m             \u001b[0mcache\u001b[0m\u001b[0;34m[\u001b[0m\u001b[0mitem\u001b[0m\u001b[0;34m]\u001b[0m \u001b[0;34m=\u001b[0m \u001b[0mres\u001b[0m\u001b[0;34m\u001b[0m\u001b[0m\n",
        "\u001b[0;32m/Users/er/anaconda/lib/python2.7/site-packages/pandas/core/internals.pyc\u001b[0m in \u001b[0;36mget\u001b[0;34m(self, item)\u001b[0m\n\u001b[1;32m   2871\u001b[0m                 \u001b[0;32mreturn\u001b[0m \u001b[0mself\u001b[0m\u001b[0;34m.\u001b[0m\u001b[0mget_for_nan_indexer\u001b[0m\u001b[0;34m(\u001b[0m\u001b[0mindexer\u001b[0m\u001b[0;34m)\u001b[0m\u001b[0;34m\u001b[0m\u001b[0m\n\u001b[1;32m   2872\u001b[0m \u001b[0;34m\u001b[0m\u001b[0m\n\u001b[0;32m-> 2873\u001b[0;31m             \u001b[0m_\u001b[0m\u001b[0;34m,\u001b[0m \u001b[0mblock\u001b[0m \u001b[0;34m=\u001b[0m \u001b[0mself\u001b[0m\u001b[0;34m.\u001b[0m\u001b[0m_find_block\u001b[0m\u001b[0;34m(\u001b[0m\u001b[0mitem\u001b[0m\u001b[0;34m)\u001b[0m\u001b[0;34m\u001b[0m\u001b[0m\n\u001b[0m\u001b[1;32m   2874\u001b[0m             \u001b[0;32mreturn\u001b[0m \u001b[0mblock\u001b[0m\u001b[0;34m.\u001b[0m\u001b[0mget\u001b[0m\u001b[0;34m(\u001b[0m\u001b[0mitem\u001b[0m\u001b[0;34m)\u001b[0m\u001b[0;34m\u001b[0m\u001b[0m\n\u001b[1;32m   2875\u001b[0m         \u001b[0;32melse\u001b[0m\u001b[0;34m:\u001b[0m\u001b[0;34m\u001b[0m\u001b[0m\n",
        "\u001b[0;32m/Users/er/anaconda/lib/python2.7/site-packages/pandas/core/internals.pyc\u001b[0m in \u001b[0;36m_find_block\u001b[0;34m(self, item)\u001b[0m\n\u001b[1;32m   3183\u001b[0m \u001b[0;34m\u001b[0m\u001b[0m\n\u001b[1;32m   3184\u001b[0m     \u001b[0;32mdef\u001b[0m \u001b[0m_find_block\u001b[0m\u001b[0;34m(\u001b[0m\u001b[0mself\u001b[0m\u001b[0;34m,\u001b[0m \u001b[0mitem\u001b[0m\u001b[0;34m)\u001b[0m\u001b[0;34m:\u001b[0m\u001b[0;34m\u001b[0m\u001b[0m\n\u001b[0;32m-> 3185\u001b[0;31m         \u001b[0mself\u001b[0m\u001b[0;34m.\u001b[0m\u001b[0m_check_have\u001b[0m\u001b[0;34m(\u001b[0m\u001b[0mitem\u001b[0m\u001b[0;34m)\u001b[0m\u001b[0;34m\u001b[0m\u001b[0m\n\u001b[0m\u001b[1;32m   3186\u001b[0m         \u001b[0;32mfor\u001b[0m \u001b[0mi\u001b[0m\u001b[0;34m,\u001b[0m \u001b[0mblock\u001b[0m \u001b[0;32min\u001b[0m \u001b[0menumerate\u001b[0m\u001b[0;34m(\u001b[0m\u001b[0mself\u001b[0m\u001b[0;34m.\u001b[0m\u001b[0mblocks\u001b[0m\u001b[0;34m)\u001b[0m\u001b[0;34m:\u001b[0m\u001b[0;34m\u001b[0m\u001b[0m\n\u001b[1;32m   3187\u001b[0m             \u001b[0;32mif\u001b[0m \u001b[0mitem\u001b[0m \u001b[0;32min\u001b[0m \u001b[0mblock\u001b[0m\u001b[0;34m:\u001b[0m\u001b[0;34m\u001b[0m\u001b[0m\n",
        "\u001b[0;32m/Users/er/anaconda/lib/python2.7/site-packages/pandas/core/internals.pyc\u001b[0m in \u001b[0;36m_check_have\u001b[0;34m(self, item)\u001b[0m\n\u001b[1;32m   3190\u001b[0m     \u001b[0;32mdef\u001b[0m \u001b[0m_check_have\u001b[0m\u001b[0;34m(\u001b[0m\u001b[0mself\u001b[0m\u001b[0;34m,\u001b[0m \u001b[0mitem\u001b[0m\u001b[0;34m)\u001b[0m\u001b[0;34m:\u001b[0m\u001b[0;34m\u001b[0m\u001b[0m\n\u001b[1;32m   3191\u001b[0m         \u001b[0;32mif\u001b[0m \u001b[0mitem\u001b[0m \u001b[0;32mnot\u001b[0m \u001b[0;32min\u001b[0m \u001b[0mself\u001b[0m\u001b[0;34m.\u001b[0m\u001b[0mitems\u001b[0m\u001b[0;34m:\u001b[0m\u001b[0;34m\u001b[0m\u001b[0m\n\u001b[0;32m-> 3192\u001b[0;31m             \u001b[0;32mraise\u001b[0m \u001b[0mKeyError\u001b[0m\u001b[0;34m(\u001b[0m\u001b[0;34m'no item named %s'\u001b[0m \u001b[0;34m%\u001b[0m \u001b[0mcom\u001b[0m\u001b[0;34m.\u001b[0m\u001b[0mpprint_thing\u001b[0m\u001b[0;34m(\u001b[0m\u001b[0mitem\u001b[0m\u001b[0;34m)\u001b[0m\u001b[0;34m)\u001b[0m\u001b[0;34m\u001b[0m\u001b[0m\n\u001b[0m\u001b[1;32m   3193\u001b[0m \u001b[0;34m\u001b[0m\u001b[0m\n\u001b[1;32m   3194\u001b[0m     def reindex_axis(self, new_axis, indexer=None, method=None, axis=0,\n",
        "\u001b[0;31mKeyError\u001b[0m: u'no item named total_reach'"
       ]
      }
     ],
     "prompt_number": 24
    },
    {
     "cell_type": "code",
     "collapsed": false,
     "input": [
      "bad = total_reach == 0"
     ],
     "language": "python",
     "metadata": {},
     "outputs": []
    },
    {
     "cell_type": "code",
     "collapsed": true,
     "input": [
      "hist(npoints[bad],bins=100);"
     ],
     "language": "python",
     "metadata": {},
     "outputs": []
    },
    {
     "cell_type": "code",
     "collapsed": false,
     "input": [
      "npoints[bad].max()"
     ],
     "language": "python",
     "metadata": {},
     "outputs": []
    },
    {
     "cell_type": "code",
     "collapsed": false,
     "input": [],
     "language": "python",
     "metadata": {},
     "outputs": []
    }
   ],
   "metadata": {}
  }
 ]
}