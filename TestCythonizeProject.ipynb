{
 "metadata": {
  "name": "",
  "signature": "sha256:f86d7dc37ab7c4f8a72aeacd413f11c1141d186f144f892d9fd1b269ea181636"
 },
 "nbformat": 3,
 "nbformat_minor": 0,
 "worksheets": [
  {
   "cells": [
    {
     "cell_type": "code",
     "collapsed": false,
     "input": [
      "%load_ext autoreload\n",
      "%autoreload 2"
     ],
     "language": "python",
     "metadata": {},
     "outputs": [],
     "prompt_number": 1
    },
    {
     "cell_type": "code",
     "collapsed": false,
     "input": [
      "import sys\n",
      "sys.path.append('./src')"
     ],
     "language": "python",
     "metadata": {},
     "outputs": [],
     "prompt_number": 2
    },
    {
     "cell_type": "code",
     "collapsed": false,
     "input": [
      "import os.path\n",
      "from CythonizeProject import cythonize_python, CythonizeProject"
     ],
     "language": "python",
     "metadata": {},
     "outputs": [],
     "prompt_number": 21
    },
    {
     "cell_type": "code",
     "collapsed": false,
     "input": [
      "# Input options\n",
      "\n",
      "included_dirs = ['./src/RDF']\n",
      "code_python_path = './src/RDF'\n",
      "build_dir = './cython_build'\n",
      "src_dir = os.path.abspath(os.path.join(build_dir, 'RDF/src'))\n",
      "ignored_files=['__init__.py','version.py']\n",
      "excluded_dirs=['scripts']\n",
      "force_compile=True"
     ],
     "language": "python",
     "metadata": {},
     "outputs": [],
     "prompt_number": 16
    },
    {
     "cell_type": "code",
     "collapsed": false,
     "input": [
      "cythonize_python(included_dirs,code_python_path,src_dir,\n",
      "                     build_dir=build_dir,\n",
      "                     ignored_files=ignored_files,\n",
      "                     excluded_dirs=excluded_dirs,\n",
      "                     force_compile=force_compile)"
     ],
     "language": "python",
     "metadata": {},
     "outputs": [
      {
       "output_type": "stream",
       "stream": "stdout",
       "text": [
        "ExecuteRDF.py ./cython_build\n",
        "Compiling ./src/RDF/ExecuteRDF.py because it changed.\n",
        "Cythonizing ./src/RDF/ExecuteRDF.py\n"
       ]
      },
      {
       "output_type": "stream",
       "stream": "stdout",
       "text": [
        "MRDF.py ./cython_build\n",
        "Compiling ./src/RDF/MRDF.py because it changed.\n",
        "Cythonizing ./src/RDF/MRDF.py\n"
       ]
      },
      {
       "output_type": "stream",
       "stream": "stdout",
       "text": [
        "RDF.py ./cython_build\n",
        "Compiling ./src/RDF/RDF.py because it changed.\n",
        "Cythonizing ./src/RDF/RDF.py\n"
       ]
      },
      {
       "output_type": "stream",
       "stream": "stdout",
       "text": [
        "RDF_to_class.py ./cython_build\n",
        "Compiling ./src/RDF/RDF_to_class.py because it changed.\n",
        "Cythonizing ./src/RDF/RDF_to_class.py\n"
       ]
      },
      {
       "metadata": {},
       "output_type": "pyout",
       "prompt_number": 17,
       "text": [
        "['ExecuteRDF.c', 'MRDF.c', 'RDF.c', 'RDF_to_class.c']"
       ]
      }
     ],
     "prompt_number": 17
    },
    {
     "cell_type": "code",
     "collapsed": false,
     "input": [
      "cyp = CythonizeProject(included_dirs,build_dir,ignored_files,excluded_dirs)"
     ],
     "language": "python",
     "metadata": {},
     "outputs": [],
     "prompt_number": 47
    },
    {
     "cell_type": "code",
     "collapsed": false,
     "input": [
      "modules = cyp.make_extensions()"
     ],
     "language": "python",
     "metadata": {},
     "outputs": [
      {
       "output_type": "stream",
       "stream": "stdout",
       "text": [
        "./src/RDF/ExecuteRDF.py\n",
        "Compiling ./src/RDF/ExecuteRDF.py because it changed.\n",
        "Cythonizing ./src/RDF/ExecuteRDF.py\n"
       ]
      },
      {
       "output_type": "stream",
       "stream": "stdout",
       "text": [
        "./src/RDF/MRDF.py\n",
        "Compiling ./src/RDF/MRDF.py because it changed.\n",
        "Cythonizing ./src/RDF/MRDF.py\n"
       ]
      },
      {
       "output_type": "stream",
       "stream": "stdout",
       "text": [
        "./src/RDF/RDF.py\n",
        "Compiling ./src/RDF/RDF.py because it changed.\n",
        "Cythonizing ./src/RDF/RDF.py\n"
       ]
      },
      {
       "output_type": "stream",
       "stream": "stdout",
       "text": [
        "./src/RDF/RDF_to_class.py\n",
        "Compiling ./src/RDF/RDF_to_class.py because it changed.\n",
        "Cythonizing ./src/RDF/RDF_to_class.py\n"
       ]
      }
     ],
     "prompt_number": 48
    },
    {
     "cell_type": "code",
     "collapsed": false,
     "input": [
      "os.path.join(cyp.build_dir,included_dirs[0])"
     ],
     "language": "python",
     "metadata": {},
     "outputs": [
      {
       "metadata": {},
       "output_type": "pyout",
       "prompt_number": 54,
       "text": [
        "'./cython_build/./src/RDF'"
       ]
      }
     ],
     "prompt_number": 54
    },
    {
     "cell_type": "code",
     "collapsed": false,
     "input": [
      "e.sources"
     ],
     "language": "python",
     "metadata": {},
     "outputs": [
      {
       "metadata": {},
       "output_type": "pyout",
       "prompt_number": 41,
       "text": [
        "['./cython_build/./src/RDF/ExecuteRDF.c']"
       ]
      }
     ],
     "prompt_number": 41
    },
    {
     "cell_type": "code",
     "collapsed": false,
     "input": [
      "from subprocess import call"
     ],
     "language": "python",
     "metadata": {},
     "outputs": [],
     "prompt_number": 44
    },
    {
     "cell_type": "code",
     "collapsed": false,
     "input": [],
     "language": "python",
     "metadata": {},
     "outputs": []
    }
   ],
   "metadata": {}
  }
 ]
}