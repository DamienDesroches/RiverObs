{
 "metadata": {
  "name": "",
  "signature": "sha256:7b0dd832a99d8826bd3140a6ec61c31cd859f7a827ce42f33fe41672ce197d73"
 },
 "nbformat": 3,
 "nbformat_minor": 0,
 "worksheets": [
  {
   "cells": [
    {
     "cell_type": "code",
     "collapsed": false,
     "input": [
      "%load_ext autoreload\n",
      "%autoreload 2"
     ],
     "language": "python",
     "metadata": {},
     "outputs": [],
     "prompt_number": 1
    },
    {
     "cell_type": "code",
     "collapsed": false,
     "input": [
      "import sys\n",
      "sys.path.append('./src')"
     ],
     "language": "python",
     "metadata": {},
     "outputs": [],
     "prompt_number": 2
    },
    {
     "cell_type": "code",
     "collapsed": false,
     "input": [
      "import os.path\n",
      "from CythonizeProject import cythonize_python, CythonizeProject"
     ],
     "language": "python",
     "metadata": {},
     "outputs": [],
     "prompt_number": 4
    },
    {
     "cell_type": "code",
     "collapsed": false,
     "input": [
      "# Input options\n",
      "\n",
      "included_dirs = ['./src/RDF']\n",
      "code_python_path = './src/RDF'\n",
      "build_dir = './cython_build'\n",
      "ignored_files=['__init__.py','version.py']\n",
      "excluded_dirs=['scripts']\n",
      "force_compile=True"
     ],
     "language": "python",
     "metadata": {},
     "outputs": [],
     "prompt_number": 8
    },
    {
     "cell_type": "code",
     "collapsed": false,
     "input": [
      "cyp = CythonizeProject(included_dirs,build_dir,ignored_files,excluded_dirs)"
     ],
     "language": "python",
     "metadata": {},
     "outputs": [],
     "prompt_number": 11
    },
    {
     "cell_type": "code",
     "collapsed": false,
     "input": [
      "modules = cyp.make_extensions()"
     ],
     "language": "python",
     "metadata": {},
     "outputs": [
      {
       "output_type": "stream",
       "stream": "stdout",
       "text": [
        "./src/RDF/__init__.py\n",
        "./src/RDF/ExecuteRDF.py\n",
        "./src/RDF/ExecuteRDF.py\n",
        "Compiling ./src/RDF/ExecuteRDF.py because it changed.\n",
        "Cythonizing ./src/RDF/ExecuteRDF.py\n"
       ]
      },
      {
       "output_type": "stream",
       "stream": "stdout",
       "text": [
        "./src/RDF/MRDF.py\n",
        "./src/RDF/MRDF.py\n",
        "Compiling ./src/RDF/MRDF.py because it changed.\n",
        "Cythonizing ./src/RDF/MRDF.py\n"
       ]
      },
      {
       "output_type": "stream",
       "stream": "stdout",
       "text": [
        "./src/RDF/RDF.py\n",
        "./src/RDF/RDF.py\n",
        "Compiling ./src/RDF/RDF.py because it changed.\n",
        "Cythonizing ./src/RDF/RDF.py\n"
       ]
      },
      {
       "output_type": "stream",
       "stream": "stdout",
       "text": [
        "./src/RDF/RDF_to_class.py\n",
        "./src/RDF/RDF_to_class.py\n",
        "Compiling ./src/RDF/RDF_to_class.py because it changed.\n",
        "Cythonizing ./src/RDF/RDF_to_class.py\n"
       ]
      },
      {
       "output_type": "stream",
       "stream": "stdout",
       "text": [
        "./src/RDF/version.py\n"
       ]
      }
     ],
     "prompt_number": 12
    },
    {
     "cell_type": "code",
     "collapsed": false,
     "input": [
      "e0 = modules[0]"
     ],
     "language": "python",
     "metadata": {},
     "outputs": [],
     "prompt_number": 14
    },
    {
     "cell_type": "code",
     "collapsed": false,
     "input": [
      "e0.__dict__"
     ],
     "language": "python",
     "metadata": {},
     "outputs": [
      {
       "metadata": {},
       "output_type": "pyout",
       "prompt_number": 15,
       "text": [
        "{'define_macros': [],\n",
        " 'depends': [],\n",
        " 'export_symbols': [],\n",
        " 'extra_compile_args': [],\n",
        " 'extra_link_args': [],\n",
        " 'extra_objects': [],\n",
        " 'include_dirs': [],\n",
        " 'language': None,\n",
        " 'libraries': [],\n",
        " 'library_dirs': [],\n",
        " 'name': 'RDF.ExecuteRDF',\n",
        " 'runtime_library_dirs': [],\n",
        " 'sources': ['./cython_build/./src/RDF/ExecuteRDF.c'],\n",
        " 'swig_opts': [],\n",
        " 'undef_macros': []}"
       ]
      }
     ],
     "prompt_number": 15
    },
    {
     "cell_type": "code",
     "collapsed": false,
     "input": [
      "from subprocess import call"
     ],
     "language": "python",
     "metadata": {},
     "outputs": [],
     "prompt_number": 44
    },
    {
     "cell_type": "code",
     "collapsed": false,
     "input": [],
     "language": "python",
     "metadata": {},
     "outputs": []
    }
   ],
   "metadata": {}
  }
 ]
}